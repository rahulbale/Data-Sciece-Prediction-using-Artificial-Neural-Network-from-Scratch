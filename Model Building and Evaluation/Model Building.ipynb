{
 "cells": [
  {
   "cell_type": "markdown",
   "metadata": {},
   "source": [
    "# Model Building and Model Evaluation\n",
    "- In the we will build the model that predciets the salary of Data Sceince \n",
    "\n",
    "Steps : \n",
    "1. Fearue Selection - Select the feature which we require or which are important accept for the model\n",
    "2. Dummies - Converting the Categorical attributs into One hot encoding(vector - 0,1)\n",
    "2. Spliting Dataset - Seperate the data into train and test data(train is use for building the model and test for prediction making)\n",
    "3. Building Model - In the pase we will build various Artificial Nueral Network\n",
    "4. Model Evaluation - Checking the Error rate of model preformed by various ways. "
   ]
  },
  {
   "cell_type": "code",
   "execution_count": 1,
   "metadata": {},
   "outputs": [],
   "source": [
    "#Importing all the required libraries\n",
    "import warnings\n",
    "warnings.filterwarnings(\"ignore\")\n",
    "import numpy as np\n",
    "import pandas as pd\n",
    "import matplotlib.pyplot as plt\n",
    "import seaborn as sns\n",
    "sns.set_style('darkgrid')\n",
    "from sklearn.model_selection import train_test_split, RandomizedSearchCV\n",
    "from sklearn.linear_model import LinearRegression, Ridge, Lasso\n",
    "from sklearn.ensemble import RandomForestRegressor\n",
    "from sklearn.preprocessing import StandardScaler , LabelEncoder\n",
    "from sklearn.metrics import r2_score\n",
    "from tensorflow.keras.models import Sequential\n",
    "from tensorflow.keras.layers import Dense, Dropout \n",
    "from kerastuner.tuners import RandomSearch\n",
    "from tensorflow.keras.callbacks import EarlyStopping\n",
    "from tensorflow.keras import regularizers"
   ]
  },
  {
   "cell_type": "code",
   "execution_count": 2,
   "metadata": {},
   "outputs": [
    {
     "data": {
      "text/html": [
       "<div>\n",
       "<style scoped>\n",
       "    .dataframe tbody tr th:only-of-type {\n",
       "        vertical-align: middle;\n",
       "    }\n",
       "\n",
       "    .dataframe tbody tr th {\n",
       "        vertical-align: top;\n",
       "    }\n",
       "\n",
       "    .dataframe thead th {\n",
       "        text-align: right;\n",
       "    }\n",
       "</style>\n",
       "<table border=\"1\" class=\"dataframe\">\n",
       "  <thead>\n",
       "    <tr style=\"text-align: right;\">\n",
       "      <th></th>\n",
       "      <th>Unnamed: 0</th>\n",
       "      <th>Title</th>\n",
       "      <th>Location</th>\n",
       "      <th>Company</th>\n",
       "      <th>Rating</th>\n",
       "      <th>Ownership</th>\n",
       "      <th>Industry</th>\n",
       "      <th>Sector</th>\n",
       "      <th>Salary</th>\n",
       "      <th>Description</th>\n",
       "      <th>...</th>\n",
       "      <th>Excel</th>\n",
       "      <th>Deep_learning</th>\n",
       "      <th>Macine_learning</th>\n",
       "      <th>Bachelors</th>\n",
       "      <th>Masters</th>\n",
       "      <th>Job_type</th>\n",
       "      <th>Job_simp</th>\n",
       "      <th>Seniority_simp</th>\n",
       "      <th>Industry_simp</th>\n",
       "      <th>Sectors_simp</th>\n",
       "    </tr>\n",
       "  </thead>\n",
       "  <tbody>\n",
       "    <tr>\n",
       "      <th>0</th>\n",
       "      <td>0</td>\n",
       "      <td>Data Scientist 1</td>\n",
       "      <td>Bangalore</td>\n",
       "      <td>PayPal</td>\n",
       "      <td>4.1</td>\n",
       "      <td>Company - Public</td>\n",
       "      <td>Internet</td>\n",
       "      <td>Information Technology</td>\n",
       "      <td>₹250K - ₹683K (Glassdoor Est.)</td>\n",
       "      <td>Who we are: Fueled by a fundamental belief tha...</td>\n",
       "      <td>...</td>\n",
       "      <td>1</td>\n",
       "      <td>1</td>\n",
       "      <td>1</td>\n",
       "      <td>1</td>\n",
       "      <td>1</td>\n",
       "      <td>Other</td>\n",
       "      <td>Data Scientist</td>\n",
       "      <td>Other</td>\n",
       "      <td>Internet</td>\n",
       "      <td>Information Technology</td>\n",
       "    </tr>\n",
       "    <tr>\n",
       "      <th>1</th>\n",
       "      <td>1</td>\n",
       "      <td>Data Scientist</td>\n",
       "      <td>Gurgaon</td>\n",
       "      <td>Builder.ai - What would you Build?</td>\n",
       "      <td>3.7</td>\n",
       "      <td>Company - Private</td>\n",
       "      <td>Enterprise Software &amp; Network Solutions</td>\n",
       "      <td>Information Technology</td>\n",
       "      <td>₹527K - ₹798K (Glassdoor Est.)</td>\n",
       "      <td>About us\\n\\nInnovation is fuelled by the power...</td>\n",
       "      <td>...</td>\n",
       "      <td>0</td>\n",
       "      <td>1</td>\n",
       "      <td>1</td>\n",
       "      <td>0</td>\n",
       "      <td>1</td>\n",
       "      <td>Other</td>\n",
       "      <td>Data Scientist</td>\n",
       "      <td>Other</td>\n",
       "      <td>Software</td>\n",
       "      <td>Information Technology</td>\n",
       "    </tr>\n",
       "    <tr>\n",
       "      <th>2</th>\n",
       "      <td>2</td>\n",
       "      <td>Machine Learning Engineer - Java/Scala/Spark (...</td>\n",
       "      <td>Bangalore</td>\n",
       "      <td>Oracle</td>\n",
       "      <td>3.8</td>\n",
       "      <td>Company - Public</td>\n",
       "      <td>Enterprise Software &amp; Network Solutions</td>\n",
       "      <td>Information Technology</td>\n",
       "      <td>₹402K - ₹831K (Glassdoor Est.)</td>\n",
       "      <td>Oracle Cloud Infrastructure (OCI) is a strateg...</td>\n",
       "      <td>...</td>\n",
       "      <td>1</td>\n",
       "      <td>1</td>\n",
       "      <td>1</td>\n",
       "      <td>0</td>\n",
       "      <td>1</td>\n",
       "      <td>Internship</td>\n",
       "      <td>Machine Learing</td>\n",
       "      <td>Other</td>\n",
       "      <td>Software</td>\n",
       "      <td>Information Technology</td>\n",
       "    </tr>\n",
       "    <tr>\n",
       "      <th>3</th>\n",
       "      <td>3</td>\n",
       "      <td>Data Scientist</td>\n",
       "      <td>Bangalore</td>\n",
       "      <td>Nutanix</td>\n",
       "      <td>3.9</td>\n",
       "      <td>Company - Public</td>\n",
       "      <td>Enterprise Software &amp; Network Solutions</td>\n",
       "      <td>Information Technology</td>\n",
       "      <td>₹457K - ₹899K (Glassdoor Est.)</td>\n",
       "      <td>We are looking for a Data Scientist who will s...</td>\n",
       "      <td>...</td>\n",
       "      <td>1</td>\n",
       "      <td>0</td>\n",
       "      <td>1</td>\n",
       "      <td>0</td>\n",
       "      <td>1</td>\n",
       "      <td>Other</td>\n",
       "      <td>Data Scientist</td>\n",
       "      <td>Other</td>\n",
       "      <td>Software</td>\n",
       "      <td>Information Technology</td>\n",
       "    </tr>\n",
       "    <tr>\n",
       "      <th>4</th>\n",
       "      <td>4</td>\n",
       "      <td>Data Scientist</td>\n",
       "      <td>Chennai</td>\n",
       "      <td>Paypal</td>\n",
       "      <td>4.1</td>\n",
       "      <td>Company - Public</td>\n",
       "      <td>Internet</td>\n",
       "      <td>Information Technology</td>\n",
       "      <td>₹540K - ₹724K (Glassdoor Est.)</td>\n",
       "      <td>At PayPal, were literally reinventing how the ...</td>\n",
       "      <td>...</td>\n",
       "      <td>0</td>\n",
       "      <td>1</td>\n",
       "      <td>1</td>\n",
       "      <td>0</td>\n",
       "      <td>1</td>\n",
       "      <td>Other</td>\n",
       "      <td>Data Scientist</td>\n",
       "      <td>Other</td>\n",
       "      <td>Internet</td>\n",
       "      <td>Information Technology</td>\n",
       "    </tr>\n",
       "  </tbody>\n",
       "</table>\n",
       "<p>5 rows × 26 columns</p>\n",
       "</div>"
      ],
      "text/plain": [
       "   Unnamed: 0                                              Title   Location  \\\n",
       "0           0                                   Data Scientist 1  Bangalore   \n",
       "1           1                                     Data Scientist    Gurgaon   \n",
       "2           2  Machine Learning Engineer - Java/Scala/Spark (...  Bangalore   \n",
       "3           3                                     Data Scientist  Bangalore   \n",
       "4           4                                     Data Scientist    Chennai   \n",
       "\n",
       "                              Company  Rating          Ownership  \\\n",
       "0                              PayPal     4.1   Company - Public   \n",
       "1  Builder.ai - What would you Build?     3.7  Company - Private   \n",
       "2                              Oracle     3.8   Company - Public   \n",
       "3                             Nutanix     3.9   Company - Public   \n",
       "4                              Paypal     4.1   Company - Public   \n",
       "\n",
       "                                  Industry                  Sector  \\\n",
       "0                                 Internet  Information Technology   \n",
       "1  Enterprise Software & Network Solutions  Information Technology   \n",
       "2  Enterprise Software & Network Solutions  Information Technology   \n",
       "3  Enterprise Software & Network Solutions  Information Technology   \n",
       "4                                 Internet  Information Technology   \n",
       "\n",
       "                           Salary  \\\n",
       "0  ₹250K - ₹683K (Glassdoor Est.)   \n",
       "1  ₹527K - ₹798K (Glassdoor Est.)   \n",
       "2  ₹402K - ₹831K (Glassdoor Est.)   \n",
       "3  ₹457K - ₹899K (Glassdoor Est.)   \n",
       "4  ₹540K - ₹724K (Glassdoor Est.)   \n",
       "\n",
       "                                         Description  ...  Excel  \\\n",
       "0  Who we are: Fueled by a fundamental belief tha...  ...      1   \n",
       "1  About us\\n\\nInnovation is fuelled by the power...  ...      0   \n",
       "2  Oracle Cloud Infrastructure (OCI) is a strateg...  ...      1   \n",
       "3  We are looking for a Data Scientist who will s...  ...      1   \n",
       "4  At PayPal, were literally reinventing how the ...  ...      0   \n",
       "\n",
       "   Deep_learning  Macine_learning Bachelors  Masters    Job_type  \\\n",
       "0              1                1         1        1       Other   \n",
       "1              1                1         0        1       Other   \n",
       "2              1                1         0        1  Internship   \n",
       "3              0                1         0        1       Other   \n",
       "4              1                1         0        1       Other   \n",
       "\n",
       "          Job_simp  Seniority_simp  Industry_simp            Sectors_simp  \n",
       "0   Data Scientist           Other       Internet  Information Technology  \n",
       "1   Data Scientist           Other       Software  Information Technology  \n",
       "2  Machine Learing           Other       Software  Information Technology  \n",
       "3   Data Scientist           Other       Software  Information Technology  \n",
       "4   Data Scientist           Other       Internet  Information Technology  \n",
       "\n",
       "[5 rows x 26 columns]"
      ]
     },
     "execution_count": 2,
     "metadata": {},
     "output_type": "execute_result"
    }
   ],
   "source": [
    "df = pd.read_csv('eda_data.csv')\n",
    "df.head()"
   ]
  },
  {
   "cell_type": "code",
   "execution_count": 3,
   "metadata": {},
   "outputs": [
    {
     "data": {
      "text/plain": [
       "Index(['Unnamed: 0', 'Title', 'Location', 'Company', 'Rating', 'Ownership',\n",
       "       'Industry', 'Sector', 'Salary', 'Description', 'min_salary',\n",
       "       'max_salary', 'avg_salary', 'Type_of_ownership', 'Python', 'Aws',\n",
       "       'Excel', 'Deep_learning', 'Macine_learning', 'Bachelors', 'Masters',\n",
       "       'Job_type', 'Job_simp', 'Seniority_simp', 'Industry_simp',\n",
       "       'Sectors_simp'],\n",
       "      dtype='object')"
      ]
     },
     "execution_count": 3,
     "metadata": {},
     "output_type": "execute_result"
    }
   ],
   "source": [
    "df.columns"
   ]
  },
  {
   "cell_type": "code",
   "execution_count": 4,
   "metadata": {},
   "outputs": [],
   "source": [
    "# Droping the unwanted Data\n",
    "df.drop(['Unnamed: 0', 'Title', 'Company', 'Ownership', 'Industry', 'Sector', 'Salary', 'Description', 'min_salary', 'max_salary'], inplace = True, axis = 1)"
   ]
  },
  {
   "cell_type": "code",
   "execution_count": 5,
   "metadata": {},
   "outputs": [
    {
     "data": {
      "image/png": "[encoded data removed]",
      "text/plain": [
       "<Figure size 1080x720 with 2 Axes>"
      ]
     },
     "metadata": {},
     "output_type": "display_data"
    }
   ],
   "source": [
    "import seaborn as sns\n",
    "plt.figure(figsize = (15,10))\n",
    "sns.heatmap(df.corr(), annot=True, fmt='.2g')\n",
    "plt.show()"
   ]
  },
  {
   "cell_type": "markdown",
   "metadata": {},
   "source": [
    "## Feature Selection"
   ]
  },
  {
   "cell_type": "code",
   "execution_count": 6,
   "metadata": {},
   "outputs": [],
   "source": [
    "# Function for selection of important feature using Correlation method\n",
    "def feaure_selection(dataset, threshold):\n",
    "    corr_set = set()\n",
    "    corr_matrix = dataset.corr()  # Correlation of data\n",
    "    # Itterating to each columns\n",
    "    for i in range(len(corr_matrix.columns)):\n",
    "        # Looping to each columns rows \n",
    "        for j in range(i):                             \n",
    "              if corr_matrix.iloc[i, j] > threshold:  # If correlation is greater then the Threshold\n",
    "                    corr_ = corr_matrix.columns[i]    # we will select that feature if statement is True\n",
    "                    corr_set.add(corr_)               # Storing features into the set \n",
    "    return corr_set"
   ]
  },
  {
   "cell_type": "code",
   "execution_count": 7,
   "metadata": {},
   "outputs": [
    {
     "data": {
      "text/plain": [
       "set()"
      ]
     },
     "execution_count": 7,
     "metadata": {},
     "output_type": "execute_result"
    }
   ],
   "source": [
    "# If the feature is greater then 0.80 we will drop the feature\n",
    "feaure_selection(df, 0.80)"
   ]
  },
  {
   "cell_type": "markdown",
   "metadata": {},
   "source": [
    "## Converting Cateforical features into numerical values"
   ]
  },
  {
   "cell_type": "code",
   "execution_count": 8,
   "metadata": {},
   "outputs": [],
   "source": [
    "df_dum= pd.get_dummies(df, drop_first=True)"
   ]
  },
  {
   "cell_type": "code",
   "execution_count": 9,
   "metadata": {},
   "outputs": [
    {
     "data": {
      "text/plain": [
       "(586, 38)"
      ]
     },
     "execution_count": 9,
     "metadata": {},
     "output_type": "execute_result"
    }
   ],
   "source": [
    "df_dum.shape"
   ]
  },
  {
   "cell_type": "code",
   "execution_count": 10,
   "metadata": {},
   "outputs": [
    {
     "data": {
      "text/html": [
       "<div>\n",
       "<style scoped>\n",
       "    .dataframe tbody tr th:only-of-type {\n",
       "        vertical-align: middle;\n",
       "    }\n",
       "\n",
       "    .dataframe tbody tr th {\n",
       "        vertical-align: top;\n",
       "    }\n",
       "\n",
       "    .dataframe thead th {\n",
       "        text-align: right;\n",
       "    }\n",
       "</style>\n",
       "<table border=\"1\" class=\"dataframe\">\n",
       "  <thead>\n",
       "    <tr style=\"text-align: right;\">\n",
       "      <th></th>\n",
       "      <th>Rating</th>\n",
       "      <th>avg_salary</th>\n",
       "      <th>Python</th>\n",
       "      <th>Aws</th>\n",
       "      <th>Excel</th>\n",
       "      <th>Deep_learning</th>\n",
       "      <th>Macine_learning</th>\n",
       "      <th>Bachelors</th>\n",
       "      <th>Masters</th>\n",
       "      <th>Location_Chennai</th>\n",
       "      <th>...</th>\n",
       "      <th>Industry_simp_Internet</th>\n",
       "      <th>Industry_simp_Manufacturing</th>\n",
       "      <th>Industry_simp_Other</th>\n",
       "      <th>Industry_simp_Service</th>\n",
       "      <th>Industry_simp_Software</th>\n",
       "      <th>Sectors_simp_Health Care</th>\n",
       "      <th>Sectors_simp_Information Technology</th>\n",
       "      <th>Sectors_simp_Manufacturing</th>\n",
       "      <th>Sectors_simp_Other</th>\n",
       "      <th>Sectors_simp_Services</th>\n",
       "    </tr>\n",
       "  </thead>\n",
       "  <tbody>\n",
       "    <tr>\n",
       "      <th>0</th>\n",
       "      <td>4.1</td>\n",
       "      <td>466.5</td>\n",
       "      <td>1</td>\n",
       "      <td>0</td>\n",
       "      <td>1</td>\n",
       "      <td>1</td>\n",
       "      <td>1</td>\n",
       "      <td>1</td>\n",
       "      <td>1</td>\n",
       "      <td>0</td>\n",
       "      <td>...</td>\n",
       "      <td>1</td>\n",
       "      <td>0</td>\n",
       "      <td>0</td>\n",
       "      <td>0</td>\n",
       "      <td>0</td>\n",
       "      <td>0</td>\n",
       "      <td>1</td>\n",
       "      <td>0</td>\n",
       "      <td>0</td>\n",
       "      <td>0</td>\n",
       "    </tr>\n",
       "    <tr>\n",
       "      <th>1</th>\n",
       "      <td>3.7</td>\n",
       "      <td>662.5</td>\n",
       "      <td>1</td>\n",
       "      <td>0</td>\n",
       "      <td>0</td>\n",
       "      <td>1</td>\n",
       "      <td>1</td>\n",
       "      <td>0</td>\n",
       "      <td>1</td>\n",
       "      <td>0</td>\n",
       "      <td>...</td>\n",
       "      <td>0</td>\n",
       "      <td>0</td>\n",
       "      <td>0</td>\n",
       "      <td>0</td>\n",
       "      <td>1</td>\n",
       "      <td>0</td>\n",
       "      <td>1</td>\n",
       "      <td>0</td>\n",
       "      <td>0</td>\n",
       "      <td>0</td>\n",
       "    </tr>\n",
       "    <tr>\n",
       "      <th>2</th>\n",
       "      <td>3.8</td>\n",
       "      <td>616.5</td>\n",
       "      <td>1</td>\n",
       "      <td>1</td>\n",
       "      <td>1</td>\n",
       "      <td>1</td>\n",
       "      <td>1</td>\n",
       "      <td>0</td>\n",
       "      <td>1</td>\n",
       "      <td>0</td>\n",
       "      <td>...</td>\n",
       "      <td>0</td>\n",
       "      <td>0</td>\n",
       "      <td>0</td>\n",
       "      <td>0</td>\n",
       "      <td>1</td>\n",
       "      <td>0</td>\n",
       "      <td>1</td>\n",
       "      <td>0</td>\n",
       "      <td>0</td>\n",
       "      <td>0</td>\n",
       "    </tr>\n",
       "    <tr>\n",
       "      <th>3</th>\n",
       "      <td>3.9</td>\n",
       "      <td>678.0</td>\n",
       "      <td>1</td>\n",
       "      <td>0</td>\n",
       "      <td>1</td>\n",
       "      <td>0</td>\n",
       "      <td>1</td>\n",
       "      <td>0</td>\n",
       "      <td>1</td>\n",
       "      <td>0</td>\n",
       "      <td>...</td>\n",
       "      <td>0</td>\n",
       "      <td>0</td>\n",
       "      <td>0</td>\n",
       "      <td>0</td>\n",
       "      <td>1</td>\n",
       "      <td>0</td>\n",
       "      <td>1</td>\n",
       "      <td>0</td>\n",
       "      <td>0</td>\n",
       "      <td>0</td>\n",
       "    </tr>\n",
       "    <tr>\n",
       "      <th>4</th>\n",
       "      <td>4.1</td>\n",
       "      <td>632.0</td>\n",
       "      <td>1</td>\n",
       "      <td>0</td>\n",
       "      <td>0</td>\n",
       "      <td>1</td>\n",
       "      <td>1</td>\n",
       "      <td>0</td>\n",
       "      <td>1</td>\n",
       "      <td>1</td>\n",
       "      <td>...</td>\n",
       "      <td>1</td>\n",
       "      <td>0</td>\n",
       "      <td>0</td>\n",
       "      <td>0</td>\n",
       "      <td>0</td>\n",
       "      <td>0</td>\n",
       "      <td>1</td>\n",
       "      <td>0</td>\n",
       "      <td>0</td>\n",
       "      <td>0</td>\n",
       "    </tr>\n",
       "  </tbody>\n",
       "</table>\n",
       "<p>5 rows × 38 columns</p>\n",
       "</div>"
      ],
      "text/plain": [
       "   Rating  avg_salary  Python  Aws  Excel  Deep_learning  Macine_learning  \\\n",
       "0     4.1       466.5       1    0      1              1                1   \n",
       "1     3.7       662.5       1    0      0              1                1   \n",
       "2     3.8       616.5       1    1      1              1                1   \n",
       "3     3.9       678.0       1    0      1              0                1   \n",
       "4     4.1       632.0       1    0      0              1                1   \n",
       "\n",
       "   Bachelors  Masters  Location_Chennai  ...  Industry_simp_Internet  \\\n",
       "0          1        1                 0  ...                       1   \n",
       "1          0        1                 0  ...                       0   \n",
       "2          0        1                 0  ...                       0   \n",
       "3          0        1                 0  ...                       0   \n",
       "4          0        1                 1  ...                       1   \n",
       "\n",
       "   Industry_simp_Manufacturing  Industry_simp_Other  Industry_simp_Service  \\\n",
       "0                            0                    0                      0   \n",
       "1                            0                    0                      0   \n",
       "2                            0                    0                      0   \n",
       "3                            0                    0                      0   \n",
       "4                            0                    0                      0   \n",
       "\n",
       "   Industry_simp_Software  Sectors_simp_Health Care  \\\n",
       "0                       0                         0   \n",
       "1                       1                         0   \n",
       "2                       1                         0   \n",
       "3                       1                         0   \n",
       "4                       0                         0   \n",
       "\n",
       "   Sectors_simp_Information Technology  Sectors_simp_Manufacturing  \\\n",
       "0                                    1                           0   \n",
       "1                                    1                           0   \n",
       "2                                    1                           0   \n",
       "3                                    1                           0   \n",
       "4                                    1                           0   \n",
       "\n",
       "   Sectors_simp_Other  Sectors_simp_Services  \n",
       "0                   0                      0  \n",
       "1                   0                      0  \n",
       "2                   0                      0  \n",
       "3                   0                      0  \n",
       "4                   0                      0  \n",
       "\n",
       "[5 rows x 38 columns]"
      ]
     },
     "execution_count": 10,
     "metadata": {},
     "output_type": "execute_result"
    }
   ],
   "source": [
    "df_dum.head()"
   ]
  },
  {
   "cell_type": "markdown",
   "metadata": {},
   "source": [
    "## Taking X as Independent Variable and y as Dependent Variable"
   ]
  },
  {
   "cell_type": "code",
   "execution_count": 11,
   "metadata": {},
   "outputs": [],
   "source": [
    "X = df_dum.drop('avg_salary', axis =1)    #Independent Variables\n",
    "y = df_dum.avg_salary.values              #Dependent Variables "
   ]
  },
  {
   "cell_type": "markdown",
   "metadata": {},
   "source": [
    "## Spliting Data into Train/Test"
   ]
  },
  {
   "cell_type": "code",
   "execution_count": 12,
   "metadata": {},
   "outputs": [
    {
     "name": "stdout",
     "output_type": "stream",
     "text": [
      "Training Data Set :  (468, 37) (468,)\n",
      "Testing Data Set :  (118, 37) (118,)\n"
     ]
    }
   ],
   "source": [
    "X_train,X_test,y_train,y_test=train_test_split(X, y, test_size =0.2, random_state=0)\n",
    "print(\"Training Data Set : \" ,X_train.shape,y_train.shape)\n",
    "print(\"Testing Data Set : \" ,X_test.shape,y_test.shape)"
   ]
  },
  {
   "cell_type": "markdown",
   "metadata": {},
   "source": [
    "## Scaling Data "
   ]
  },
  {
   "cell_type": "code",
   "execution_count": 13,
   "metadata": {},
   "outputs": [],
   "source": [
    "sc = StandardScaler()\n",
    "X_train = sc.fit_transform(X_train)\n",
    "X_test = sc.fit_transform(X_test)"
   ]
  },
  {
   "cell_type": "markdown",
   "metadata": {},
   "source": [
    "## Model Building "
   ]
  },
  {
   "cell_type": "markdown",
   "metadata": {},
   "source": [
    "### Artificial Neuran Network\n",
    "\n",
    "Sequential -  Keeps all the Layers in Sequence through out the training\n",
    "\n",
    "Dense Layer : It is the Hidden Layers of Neural Network \n",
    "- units -  Total neurals \n",
    "- kernel_initializer -  Weight Initialization Method\n",
    "- activation -  Activation Function \n",
    "- input_dim - Dimension of the input Features\n",
    "\n",
    "Compile :\n",
    "- optimizer - It is used to change the attributes of the neural network such as weights, bies and learning rate to reduce the losses. Optimizers Initialization are (Gradiant, SGD, Mini Batch SGD, Adagrad, Adadelta, Adam)\n",
    "- loss - Calculating the error (Mean Squared Error(MSE))"
   ]
  },
  {
   "cell_type": "code",
   "execution_count": 14,
   "metadata": {},
   "outputs": [],
   "source": [
    "# Model Building\n",
    "\n",
    "model = Sequential()\n",
    "model.add(Dense(units = 12, kernel_initializer = 'he_uniform', kernel_regularizer=regularizers.l2(0.01), activation = 'relu', input_dim = 37))\n",
    "model.add(Dense(units = 12, kernel_initializer = 'he_uniform', kernel_regularizer=regularizers.l2(0.01), activation = 'relu'))\n",
    "model.add(Dense(units = 24, kernel_initializer = 'he_uniform', kernel_regularizer=regularizers.l2(0.01),activation = 'relu'))\n",
    "model.add(Dropout(0.10))\n",
    "model.add(Dense(units = 32, kernel_initializer = 'he_uniform',kernel_regularizer=regularizers.l2(0.01), activation = 'relu'))\n",
    "model.add(Dense(units = 32, kernel_initializer = 'he_uniform',kernel_regularizer=regularizers.l2(0.01), activation = 'relu'))\n",
    "model.add(Dropout(0.25))\n",
    "model.add(Dense(units = 1, kernel_initializer = 'normal'))\n",
    "model.compile(optimizer = 'adam', loss='mae', metrics=['mae'])"
   ]
  },
  {
   "cell_type": "code",
   "execution_count": 15,
   "metadata": {},
   "outputs": [
    {
     "name": "stdout",
     "output_type": "stream",
     "text": [
      "Model: \"sequential\"\n",
      "_________________________________________________________________\n",
      "Layer (type)                 Output Shape              Param #   \n",
      "=================================================================\n",
      "dense (Dense)                (None, 12)                456       \n",
      "_________________________________________________________________\n",
      "dense_1 (Dense)              (None, 12)                156       \n",
      "_________________________________________________________________\n",
      "dense_2 (Dense)              (None, 24)                312       \n",
      "_________________________________________________________________\n",
      "dropout (Dropout)            (None, 24)                0         \n",
      "_________________________________________________________________\n",
      "dense_3 (Dense)              (None, 32)                800       \n",
      "_________________________________________________________________\n",
      "dense_4 (Dense)              (None, 32)                1056      \n",
      "_________________________________________________________________\n",
      "dropout_1 (Dropout)          (None, 32)                0         \n",
      "_________________________________________________________________\n",
      "dense_5 (Dense)              (None, 1)                 33        \n",
      "=================================================================\n",
      "Total params: 2,813\n",
      "Trainable params: 2,813\n",
      "Non-trainable params: 0\n",
      "_________________________________________________________________\n"
     ]
    }
   ],
   "source": [
    "# Summary of the Model\n",
    "model.summary()"
   ]
  },
  {
   "cell_type": "code",
   "execution_count": 16,
   "metadata": {},
   "outputs": [],
   "source": [
    "# Stops Early if the val_loss is not Decreasing\n",
    "early_stop = EarlyStopping(monitor = 'val_loss', patience = 25) # Parience - Wait till the 5 iteration"
   ]
  },
  {
   "cell_type": "markdown",
   "metadata": {},
   "source": [
    "## Training Model\n",
    "- batch_size = Some size of data from the dataset for per epoch\n",
    "- epoch - Number of epochs to train the model. An epoch is an iteration over the entire `x` and `y` 1 epoch is 1 round of front and back propogation\n",
    "- callbacks - Callback function to mointo the val_loss and stop training is it does not decrease\n",
    "- validation_data - Test Data"
   ]
  },
  {
   "cell_type": "code",
   "execution_count": 17,
   "metadata": {},
   "outputs": [
    {
     "name": "stdout",
     "output_type": "stream",
     "text": [
      "Epoch 1/110\n",
      "30/30 [==============================] - 0s 10ms/step - loss: 570.4465 - mae: 568.3104 - val_loss: 568.0536 - val_mae: 566.0051\n",
      "Epoch 2/110\n",
      "30/30 [==============================] - 0s 3ms/step - loss: 567.7875 - mae: 565.7862 - val_loss: 562.6837 - val_mae: 560.7135\n",
      "Epoch 3/110\n",
      "30/30 [==============================] - 0s 2ms/step - loss: 554.4929 - mae: 552.5106 - val_loss: 533.1893 - val_mae: 531.1697\n",
      "Epoch 4/110\n",
      "30/30 [==============================] - 0s 2ms/step - loss: 477.4279 - mae: 475.3278 - val_loss: 374.1561 - val_mae: 371.9346\n",
      "Epoch 5/110\n",
      "30/30 [==============================] - 0s 2ms/step - loss: 256.5006 - mae: 254.1445 - val_loss: 181.6551 - val_mae: 179.2039\n",
      "Epoch 6/110\n",
      "30/30 [==============================] - 0s 2ms/step - loss: 195.5808 - mae: 193.1721 - val_loss: 162.8182 - val_mae: 160.4295\n",
      "Epoch 7/110\n",
      "30/30 [==============================] - 0s 2ms/step - loss: 174.2614 - mae: 171.8813 - val_loss: 157.9865 - val_mae: 155.6298\n",
      "Epoch 8/110\n",
      "30/30 [==============================] - 0s 2ms/step - loss: 174.3731 - mae: 172.0164 - val_loss: 151.0533 - val_mae: 148.7145\n",
      "Epoch 9/110\n",
      "30/30 [==============================] - 0s 2ms/step - loss: 163.9174 - mae: 161.5829 - val_loss: 149.4872 - val_mae: 147.1643\n",
      "Epoch 10/110\n",
      "30/30 [==============================] - 0s 2ms/step - loss: 158.4199 - mae: 156.1061 - val_loss: 150.2357 - val_mae: 147.9428\n",
      "Epoch 11/110\n",
      "30/30 [==============================] - 0s 2ms/step - loss: 160.0542 - mae: 157.7567 - val_loss: 150.7129 - val_mae: 148.4351\n",
      "Epoch 12/110\n",
      "30/30 [==============================] - 0s 2ms/step - loss: 152.0061 - mae: 149.7232 - val_loss: 141.7145 - val_mae: 139.4249\n",
      "Epoch 13/110\n",
      "30/30 [==============================] - 0s 2ms/step - loss: 149.3543 - mae: 147.0708 - val_loss: 140.5614 - val_mae: 138.2866\n",
      "Epoch 14/110\n",
      "30/30 [==============================] - 0s 2ms/step - loss: 146.8258 - mae: 144.5626 - val_loss: 138.8300 - val_mae: 136.5547\n",
      "Epoch 15/110\n",
      "30/30 [==============================] - 0s 3ms/step - loss: 149.9222 - mae: 147.6551 - val_loss: 142.5048 - val_mae: 140.2536\n",
      "Epoch 16/110\n",
      "30/30 [==============================] - 0s 2ms/step - loss: 142.4043 - mae: 140.1447 - val_loss: 140.5519 - val_mae: 138.3000\n",
      "Epoch 17/110\n",
      "30/30 [==============================] - 0s 4ms/step - loss: 137.5335 - mae: 135.2806 - val_loss: 139.7971 - val_mae: 137.5419\n",
      "Epoch 18/110\n",
      "30/30 [==============================] - 0s 2ms/step - loss: 136.9069 - mae: 134.6499 - val_loss: 138.3790 - val_mae: 136.1302\n",
      "Epoch 19/110\n",
      "30/30 [==============================] - 0s 3ms/step - loss: 138.2335 - mae: 135.9816 - val_loss: 137.8030 - val_mae: 135.5576\n",
      "Epoch 20/110\n",
      "30/30 [==============================] - 0s 2ms/step - loss: 140.1367 - mae: 137.9010 - val_loss: 137.4573 - val_mae: 135.2151\n",
      "Epoch 21/110\n",
      "30/30 [==============================] - 0s 3ms/step - loss: 136.0948 - mae: 133.8470 - val_loss: 138.1957 - val_mae: 135.9563\n",
      "Epoch 22/110\n",
      "30/30 [==============================] - 0s 2ms/step - loss: 142.4916 - mae: 140.2503 - val_loss: 133.1090 - val_mae: 130.8638\n",
      "Epoch 23/110\n",
      "30/30 [==============================] - 0s 3ms/step - loss: 141.2312 - mae: 138.9909 - val_loss: 134.3965 - val_mae: 132.1560\n",
      "Epoch 24/110\n",
      "30/30 [==============================] - 0s 2ms/step - loss: 137.0181 - mae: 134.7779 - val_loss: 137.4539 - val_mae: 135.2240\n",
      "Epoch 25/110\n",
      "30/30 [==============================] - 0s 3ms/step - loss: 135.3545 - mae: 133.1178 - val_loss: 131.8371 - val_mae: 129.5986\n",
      "Epoch 26/110\n",
      "30/30 [==============================] - 0s 3ms/step - loss: 134.7854 - mae: 132.5391 - val_loss: 132.3134 - val_mae: 130.0758\n",
      "Epoch 27/110\n",
      "30/30 [==============================] - 0s 3ms/step - loss: 140.9210 - mae: 138.6736 - val_loss: 134.7215 - val_mae: 132.4849\n",
      "Epoch 28/110\n",
      "30/30 [==============================] - 0s 3ms/step - loss: 128.2603 - mae: 126.0151 - val_loss: 135.1936 - val_mae: 132.9534\n",
      "Epoch 29/110\n",
      "30/30 [==============================] - 0s 3ms/step - loss: 129.1515 - mae: 126.9069 - val_loss: 132.4123 - val_mae: 130.1604\n",
      "Epoch 30/110\n",
      "30/30 [==============================] - 0s 3ms/step - loss: 128.3802 - mae: 126.1269 - val_loss: 133.8065 - val_mae: 131.5735\n",
      "Epoch 31/110\n",
      "30/30 [==============================] - 0s 2ms/step - loss: 130.7783 - mae: 128.5251 - val_loss: 128.2140 - val_mae: 125.9626\n",
      "Epoch 32/110\n",
      "30/30 [==============================] - 0s 3ms/step - loss: 135.5908 - mae: 133.3391 - val_loss: 127.4906 - val_mae: 125.2365\n",
      "Epoch 33/110\n",
      "30/30 [==============================] - 0s 3ms/step - loss: 125.9124 - mae: 123.6561 - val_loss: 126.1958 - val_mae: 123.9398\n",
      "Epoch 34/110\n",
      "30/30 [==============================] - 0s 3ms/step - loss: 128.3900 - mae: 126.1343 - val_loss: 125.6989 - val_mae: 123.4357\n",
      "Epoch 35/110\n",
      "30/30 [==============================] - 0s 3ms/step - loss: 126.6476 - mae: 124.3819 - val_loss: 129.9717 - val_mae: 127.7195\n",
      "Epoch 36/110\n",
      "30/30 [==============================] - 0s 3ms/step - loss: 132.9824 - mae: 130.7206 - val_loss: 128.2652 - val_mae: 125.9969\n",
      "Epoch 37/110\n",
      "30/30 [==============================] - 0s 3ms/step - loss: 132.4901 - mae: 130.2264 - val_loss: 129.9165 - val_mae: 127.6440\n",
      "Epoch 38/110\n",
      "30/30 [==============================] - 0s 3ms/step - loss: 132.7124 - mae: 130.4472 - val_loss: 129.6662 - val_mae: 127.3938\n",
      "Epoch 39/110\n",
      "30/30 [==============================] - 0s 3ms/step - loss: 128.6828 - mae: 126.4070 - val_loss: 126.9744 - val_mae: 124.6941\n",
      "Epoch 40/110\n",
      "30/30 [==============================] - 0s 3ms/step - loss: 127.1031 - mae: 124.8175 - val_loss: 131.5903 - val_mae: 129.3180\n",
      "Epoch 41/110\n",
      "30/30 [==============================] - 0s 3ms/step - loss: 122.9701 - mae: 120.6880 - val_loss: 129.1556 - val_mae: 126.8733\n",
      "Epoch 42/110\n",
      "30/30 [==============================] - 0s 3ms/step - loss: 126.1994 - mae: 123.9178 - val_loss: 130.2976 - val_mae: 128.0052\n",
      "Epoch 43/110\n",
      "30/30 [==============================] - 0s 3ms/step - loss: 126.0981 - mae: 123.8111 - val_loss: 129.3951 - val_mae: 127.1021\n",
      "Epoch 44/110\n",
      "30/30 [==============================] - 0s 2ms/step - loss: 127.4550 - mae: 125.1626 - val_loss: 131.3312 - val_mae: 129.0508\n",
      "Epoch 45/110\n",
      "30/30 [==============================] - 0s 3ms/step - loss: 124.2903 - mae: 122.0052 - val_loss: 125.6608 - val_mae: 123.3648\n",
      "Epoch 46/110\n",
      "30/30 [==============================] - 0s 3ms/step - loss: 120.1012 - mae: 117.8085 - val_loss: 129.0264 - val_mae: 126.7412\n",
      "Epoch 47/110\n",
      "30/30 [==============================] - 0s 3ms/step - loss: 124.5625 - mae: 122.2714 - val_loss: 125.2506 - val_mae: 122.9520\n",
      "Epoch 48/110\n",
      "30/30 [==============================] - 0s 2ms/step - loss: 123.1246 - mae: 120.8261 - val_loss: 123.7557 - val_mae: 121.4603\n",
      "Epoch 49/110\n",
      "30/30 [==============================] - 0s 2ms/step - loss: 125.5570 - mae: 123.2579 - val_loss: 123.5788 - val_mae: 121.2780\n",
      "Epoch 50/110\n",
      "30/30 [==============================] - 0s 2ms/step - loss: 124.6536 - mae: 122.3522 - val_loss: 123.3355 - val_mae: 121.0195\n",
      "Epoch 51/110\n",
      "30/30 [==============================] - 0s 2ms/step - loss: 125.9660 - mae: 123.6584 - val_loss: 122.8942 - val_mae: 120.5845\n",
      "Epoch 52/110\n",
      "30/30 [==============================] - 0s 2ms/step - loss: 122.2606 - mae: 119.9408 - val_loss: 126.8958 - val_mae: 124.5759\n",
      "Epoch 53/110\n",
      "30/30 [==============================] - 0s 3ms/step - loss: 123.4644 - mae: 121.1480 - val_loss: 128.4545 - val_mae: 126.1391\n",
      "Epoch 54/110\n",
      "30/30 [==============================] - 0s 2ms/step - loss: 122.1336 - mae: 119.8104 - val_loss: 128.3260 - val_mae: 126.0061\n",
      "Epoch 55/110\n",
      "30/30 [==============================] - 0s 2ms/step - loss: 116.5610 - mae: 114.2337 - val_loss: 123.4221 - val_mae: 121.0727\n",
      "Epoch 56/110\n",
      "30/30 [==============================] - 0s 2ms/step - loss: 125.8139 - mae: 123.4788 - val_loss: 124.0915 - val_mae: 121.7548\n",
      "Epoch 57/110\n",
      "30/30 [==============================] - 0s 3ms/step - loss: 116.3656 - mae: 114.0264 - val_loss: 124.0832 - val_mae: 121.7308\n",
      "Epoch 58/110\n",
      "30/30 [==============================] - 0s 2ms/step - loss: 113.4747 - mae: 111.1303 - val_loss: 123.0667 - val_mae: 120.7275\n",
      "Epoch 59/110\n"
     ]
    },
    {
     "name": "stdout",
     "output_type": "stream",
     "text": [
      "30/30 [==============================] - 0s 2ms/step - loss: 124.7679 - mae: 122.4313 - val_loss: 121.1044 - val_mae: 118.7517\n",
      "Epoch 60/110\n",
      "30/30 [==============================] - 0s 2ms/step - loss: 118.6526 - mae: 116.3010 - val_loss: 124.3546 - val_mae: 122.0125\n",
      "Epoch 61/110\n",
      "30/30 [==============================] - 0s 2ms/step - loss: 118.4172 - mae: 116.0678 - val_loss: 126.1992 - val_mae: 123.8534\n",
      "Epoch 62/110\n",
      "30/30 [==============================] - 0s 2ms/step - loss: 118.3982 - mae: 116.0493 - val_loss: 121.4336 - val_mae: 119.0734\n",
      "Epoch 63/110\n",
      "30/30 [==============================] - 0s 2ms/step - loss: 125.5186 - mae: 123.1657 - val_loss: 122.3146 - val_mae: 119.9658\n",
      "Epoch 64/110\n",
      "30/30 [==============================] - 0s 2ms/step - loss: 120.8835 - mae: 118.5252 - val_loss: 124.0377 - val_mae: 121.6894\n",
      "Epoch 65/110\n",
      "30/30 [==============================] - 0s 2ms/step - loss: 113.4171 - mae: 111.0687 - val_loss: 121.8369 - val_mae: 119.4720\n",
      "Epoch 66/110\n",
      "30/30 [==============================] - 0s 2ms/step - loss: 124.9771 - mae: 122.6121 - val_loss: 123.5805 - val_mae: 121.2262\n",
      "Epoch 67/110\n",
      "30/30 [==============================] - 0s 2ms/step - loss: 120.1928 - mae: 117.8286 - val_loss: 118.3438 - val_mae: 115.9777\n",
      "Epoch 68/110\n",
      "30/30 [==============================] - 0s 3ms/step - loss: 115.6444 - mae: 113.2779 - val_loss: 121.4056 - val_mae: 119.0413\n",
      "Epoch 69/110\n",
      "30/30 [==============================] - 0s 2ms/step - loss: 118.2035 - mae: 115.8340 - val_loss: 120.1070 - val_mae: 117.7267\n",
      "Epoch 70/110\n",
      "30/30 [==============================] - 0s 3ms/step - loss: 115.2578 - mae: 112.8775 - val_loss: 120.3323 - val_mae: 117.9489\n",
      "Epoch 71/110\n",
      "30/30 [==============================] - 0s 4ms/step - loss: 115.2459 - mae: 112.8620 - val_loss: 122.2039 - val_mae: 119.8107\n",
      "Epoch 72/110\n",
      "30/30 [==============================] - 0s 3ms/step - loss: 117.2781 - mae: 114.8921 - val_loss: 122.7825 - val_mae: 120.3998\n",
      "Epoch 73/110\n",
      "30/30 [==============================] - 0s 2ms/step - loss: 119.9929 - mae: 117.6143 - val_loss: 123.4478 - val_mae: 121.0655\n",
      "Epoch 74/110\n",
      "30/30 [==============================] - 0s 4ms/step - loss: 114.0236 - mae: 111.6351 - val_loss: 121.0932 - val_mae: 118.6991\n",
      "Epoch 75/110\n",
      "30/30 [==============================] - 0s 4ms/step - loss: 118.4229 - mae: 116.0302 - val_loss: 122.3952 - val_mae: 120.0058\n",
      "Epoch 76/110\n",
      "30/30 [==============================] - 0s 3ms/step - loss: 118.5719 - mae: 116.1825 - val_loss: 122.2194 - val_mae: 119.8277\n",
      "Epoch 77/110\n",
      "30/30 [==============================] - 0s 2ms/step - loss: 118.8211 - mae: 116.4359 - val_loss: 119.7488 - val_mae: 117.3455\n",
      "Epoch 78/110\n",
      "30/30 [==============================] - 0s 2ms/step - loss: 120.0626 - mae: 117.6650 - val_loss: 116.4501 - val_mae: 114.0426\n",
      "Epoch 79/110\n",
      "30/30 [==============================] - 0s 2ms/step - loss: 117.0757 - mae: 114.6704 - val_loss: 124.2579 - val_mae: 121.8676\n",
      "Epoch 80/110\n",
      "30/30 [==============================] - 0s 4ms/step - loss: 119.7437 - mae: 117.3451 - val_loss: 120.0938 - val_mae: 117.6928\n",
      "Epoch 81/110\n",
      "30/30 [==============================] - 0s 4ms/step - loss: 108.8688 - mae: 106.4677 - val_loss: 121.6988 - val_mae: 119.2995\n",
      "Epoch 82/110\n",
      "30/30 [==============================] - 0s 4ms/step - loss: 115.2658 - mae: 112.8581 - val_loss: 122.2055 - val_mae: 119.8024\n",
      "Epoch 83/110\n",
      "30/30 [==============================] - 0s 3ms/step - loss: 116.8779 - mae: 114.4644 - val_loss: 118.6023 - val_mae: 116.1833\n",
      "Epoch 84/110\n",
      "30/30 [==============================] - 0s 2ms/step - loss: 116.0817 - mae: 113.6666 - val_loss: 120.9941 - val_mae: 118.5812\n",
      "Epoch 85/110\n",
      "30/30 [==============================] - 0s 2ms/step - loss: 114.6478 - mae: 112.2377 - val_loss: 122.8817 - val_mae: 120.4661\n",
      "Epoch 86/110\n",
      "30/30 [==============================] - 0s 2ms/step - loss: 122.4106 - mae: 119.9922 - val_loss: 130.6460 - val_mae: 128.2472\n",
      "Epoch 87/110\n",
      "30/30 [==============================] - 0s 3ms/step - loss: 110.1599 - mae: 107.7417 - val_loss: 121.0295 - val_mae: 118.6028\n",
      "Epoch 88/110\n",
      "30/30 [==============================] - 0s 4ms/step - loss: 106.9521 - mae: 104.5265 - val_loss: 121.9549 - val_mae: 119.5342\n",
      "Epoch 89/110\n",
      "30/30 [==============================] - 0s 3ms/step - loss: 116.5174 - mae: 114.0924 - val_loss: 120.8365 - val_mae: 118.4109\n",
      "Epoch 90/110\n",
      "30/30 [==============================] - 0s 2ms/step - loss: 115.0204 - mae: 112.5935 - val_loss: 120.2727 - val_mae: 117.8393\n",
      "Epoch 91/110\n",
      "30/30 [==============================] - 0s 3ms/step - loss: 108.5621 - mae: 106.1301 - val_loss: 120.3097 - val_mae: 117.8769\n",
      "Epoch 92/110\n",
      "30/30 [==============================] - 0s 2ms/step - loss: 112.2543 - mae: 109.8289 - val_loss: 122.5689 - val_mae: 120.1392\n",
      "Epoch 93/110\n",
      "30/30 [==============================] - 0s 2ms/step - loss: 114.4551 - mae: 112.0213 - val_loss: 124.6242 - val_mae: 122.1883\n",
      "Epoch 94/110\n",
      "30/30 [==============================] - 0s 2ms/step - loss: 110.8679 - mae: 108.4281 - val_loss: 121.2410 - val_mae: 118.7890\n",
      "Epoch 95/110\n",
      "30/30 [==============================] - 0s 3ms/step - loss: 111.2846 - mae: 108.8422 - val_loss: 124.3094 - val_mae: 121.8665\n",
      "Epoch 96/110\n",
      "30/30 [==============================] - 0s 3ms/step - loss: 112.8755 - mae: 110.4272 - val_loss: 125.5475 - val_mae: 123.1010\n",
      "Epoch 97/110\n",
      "30/30 [==============================] - 0s 3ms/step - loss: 108.4421 - mae: 105.9896 - val_loss: 122.7685 - val_mae: 120.3065\n",
      "Epoch 98/110\n",
      "30/30 [==============================] - 0s 2ms/step - loss: 112.1148 - mae: 109.6503 - val_loss: 126.6909 - val_mae: 124.2346\n",
      "Epoch 99/110\n",
      "30/30 [==============================] - 0s 2ms/step - loss: 111.3646 - mae: 108.8951 - val_loss: 124.4092 - val_mae: 121.9437\n",
      "Epoch 100/110\n",
      "30/30 [==============================] - 0s 2ms/step - loss: 111.9477 - mae: 109.4828 - val_loss: 125.8364 - val_mae: 123.3701\n",
      "Epoch 101/110\n",
      "30/30 [==============================] - 0s 2ms/step - loss: 117.8515 - mae: 115.3718 - val_loss: 121.5922 - val_mae: 119.1048\n",
      "Epoch 102/110\n",
      "30/30 [==============================] - 0s 3ms/step - loss: 115.1995 - mae: 112.7223 - val_loss: 125.1791 - val_mae: 122.7051\n",
      "Epoch 103/110\n",
      "30/30 [==============================] - 0s 3ms/step - loss: 108.4037 - mae: 105.9240 - val_loss: 120.5445 - val_mae: 118.0517\n"
     ]
    }
   ],
   "source": [
    "history = model.fit(X_train, y_train, batch_size = 16, epochs = 110, callbacks = [early_stop], validation_data = (X_test, y_test))"
   ]
  },
  {
   "cell_type": "code",
   "execution_count": 18,
   "metadata": {},
   "outputs": [
    {
     "data": {
      "image/png": "[encoded data removed]",
      "text/plain": [
       "<Figure size 432x288 with 1 Axes>"
      ]
     },
     "metadata": {},
     "output_type": "display_data"
    }
   ],
   "source": [
    "# plot of Loss and Validation loss\n",
    "plt.plot(history.history['loss'], label='loss')\n",
    "plt.plot(history.history['val_loss'], label='val_loss')\n",
    "plt.xlabel('Epoch')\n",
    "plt.ylabel('Loss Error')\n",
    "plt.legend()\n",
    "plt.show()"
   ]
  },
  {
   "cell_type": "code",
   "execution_count": 19,
   "metadata": {},
   "outputs": [
    {
     "data": {
      "image/png": "[encoded data removed]",
      "text/plain": [
       "<Figure size 432x288 with 1 Axes>"
      ]
     },
     "metadata": {},
     "output_type": "display_data"
    }
   ],
   "source": [
    "#p lot of mse and Validation mse\n",
    "plt.plot(history.history['mae'], label='mae')\n",
    "plt.plot(history.history['val_mae'], label='val_mae')\n",
    "plt.xlabel('Epoch')\n",
    "plt.ylabel('Mean Absolute Error')\n",
    "plt.legend()\n",
    "plt.show()"
   ]
  },
  {
   "cell_type": "markdown",
   "metadata": {},
   "source": [
    "## Model Evaluation"
   ]
  },
  {
   "cell_type": "code",
   "execution_count": 20,
   "metadata": {},
   "outputs": [
    {
     "name": "stdout",
     "output_type": "stream",
     "text": [
      "Training set Mean Square Error: 83.07\n"
     ]
    }
   ],
   "source": [
    "# Calculating mean square error \n",
    "loss, mae = model.evaluate(X_train, y_train, verbose=0)\n",
    "print(\"Training set Mean Square Error:\", round(mae,2))"
   ]
  },
  {
   "cell_type": "code",
   "execution_count": 22,
   "metadata": {},
   "outputs": [
    {
     "name": "stdout",
     "output_type": "stream",
     "text": [
      "Testing set Mean Square Error: 118.05\n"
     ]
    }
   ],
   "source": [
    "# Calculating mean square error \n",
    "loss, mae  = model.evaluate(X_test, y_test, verbose=0)\n",
    "print(\"Testing set Mean Square Error:\", round(mae,2))"
   ]
  },
  {
   "cell_type": "code",
   "execution_count": 23,
   "metadata": {},
   "outputs": [
    {
     "data": {
      "image/png": "[encoded data removed]",
      "text/plain": [
       "<Figure size 720x432 with 1 Axes>"
      ]
     },
     "metadata": {},
     "output_type": "display_data"
    }
   ],
   "source": [
    "# Plot of True Values and Prediction Vales\n",
    "y_pred = model.predict(X_test)\n",
    "plt.figure(figsize=(10,6))\n",
    "plt.scatter(y_test, y_pred)\n",
    "plt.xlabel('True Values')\n",
    "plt.ylabel('Prediction Values')\n",
    "plt.axis('equal')\n",
    "plt.axis('square')\n",
    "plt.xlim([0,plt.xlim()[1]])\n",
    "plt.ylim([0,plt.ylim()[1]])\n",
    "plt.plot([0,900],[0,900])\n",
    "plt.show()"
   ]
  },
  {
   "cell_type": "markdown",
   "metadata": {},
   "source": [
    "Observation : \n",
    "- It seems that the model prediction did not performed well.\n",
    "- The Error Rate is much high \n",
    "\n",
    "Note : \n",
    "- The dotes are the data and the line is the prediction best fit line if the points are on or near by the line it means the data is well predected. \n",
    "- If the data points are fare from line it means the error rate is high and the prediction is not correct\n",
    "\n",
    "- We can imporve the prediction by adding the\n"
   ]
  },
  {
   "cell_type": "code",
   "execution_count": null,
   "metadata": {},
   "outputs": [],
   "source": []
  }
 ],
 "metadata": {
  "kernelspec": {
   "display_name": "Python 3",
   "language": "python",
   "name": "python3"
  },
  "language_info": {
   "codemirror_mode": {
    "name": "ipython",
    "version": 3
   },
   "file_extension": ".py",
   "mimetype": "text/x-python",
   "name": "python",
   "nbconvert_exporter": "python",
   "pygments_lexer": "ipython3",
   "version": "3.8.8"
  }
 },
 "nbformat": 4,
 "nbformat_minor": 4
}
