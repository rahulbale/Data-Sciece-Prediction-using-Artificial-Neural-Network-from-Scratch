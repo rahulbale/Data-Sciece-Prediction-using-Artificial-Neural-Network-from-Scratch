{
 "cells": [
  {
   "cell_type": "markdown",
   "metadata": {},
   "source": [
    "# Getting Started\n",
    "In this project, we will analyze a dataset that describes the Salary of the Data Science on the bases of different companies and locations. One of the objectives of this project is to decsribe the salary of Data Science for the future prediction. Doing so would help the upcoming Data Scientist to know what can be the Present or Future salary related to different sector by this then can choose there intrest.\n",
    "\n",
    "The dataset can be found in the same directory. The data is scraped for the Glassdoor jobs website. The dataset includes features such as:\n",
    "\n",
    "\n",
    "- Title - Title of different jobs related to Data Science field\n",
    "- Location\t - Location of the perticular job\n",
    "- Company - Name of the company\n",
    "- Rating - Rating of the company (0 to 5)\n",
    "- Ownership - Weither company is Private or Public\n",
    "- Industry - Different Industries Name\n",
    "- Sector - Different Sector where Data Science can work\n",
    "- Salary - Pay range for the perticular job\n",
    "- Description - Detail related to perticular job\n",
    "\n",
    "We wil Perform only the Data PreProcessing which is a part of Data Science Life cycle."
   ]
  },
  {
   "cell_type": "markdown",
   "metadata": {},
   "source": [
    "# Data Preprocessing\n",
    "\n",
    "Data Clearning : \n",
    "- Filling the Missing Values\n",
    "- Droping Null values if required\n",
    "- Transferind wrong data type into its original data type\n",
    "- Repleasing the unwanted to some another values\n",
    "- Outlier Detection and Removing\n",
    "\n",
    "Data Transformation : \n",
    "- Data Normilizing\n",
    "- Encoding Categorical Data"
   ]
  },
  {
   "cell_type": "code",
   "execution_count": 1,
   "metadata": {},
   "outputs": [],
   "source": [
    "#Importing all the required libraries\n",
    "import warnings\n",
    "warnings.filterwarnings(\"ignore\")\n",
    "import numpy as np\n",
    "import pandas as pd\n",
    "import matplotlib.pyplot as plt\n",
    "import seaborn as sns\n",
    "sns.set_style('darkgrid')"
   ]
  },
  {
   "cell_type": "code",
   "execution_count": 2,
   "metadata": {},
   "outputs": [
    {
     "data": {
      "text/html": [
       "<div>\n",
       "<style scoped>\n",
       "    .dataframe tbody tr th:only-of-type {\n",
       "        vertical-align: middle;\n",
       "    }\n",
       "\n",
       "    .dataframe tbody tr th {\n",
       "        vertical-align: top;\n",
       "    }\n",
       "\n",
       "    .dataframe thead th {\n",
       "        text-align: right;\n",
       "    }\n",
       "</style>\n",
       "<table border=\"1\" class=\"dataframe\">\n",
       "  <thead>\n",
       "    <tr style=\"text-align: right;\">\n",
       "      <th></th>\n",
       "      <th>Title</th>\n",
       "      <th>Location</th>\n",
       "      <th>Company</th>\n",
       "      <th>Rating</th>\n",
       "      <th>Ownership</th>\n",
       "      <th>Industry</th>\n",
       "      <th>Sector</th>\n",
       "      <th>Salary</th>\n",
       "      <th>Description</th>\n",
       "    </tr>\n",
       "  </thead>\n",
       "  <tbody>\n",
       "    <tr>\n",
       "      <th>0</th>\n",
       "      <td>Data Scientist - CRM &amp; Loyalty</td>\n",
       "      <td>Chennai</td>\n",
       "      <td>Shell Business operations, Chennai</td>\n",
       "      <td>4.1</td>\n",
       "      <td>Company - Public</td>\n",
       "      <td>Oil &amp; Gas Exploration &amp; Production</td>\n",
       "      <td>Oil, Gas, Energy &amp; Utilities</td>\n",
       "      <td>None</td>\n",
       "      <td>General Position Definition\\nThis role will dr...</td>\n",
       "    </tr>\n",
       "    <tr>\n",
       "      <th>1</th>\n",
       "      <td>Data Scientist 1</td>\n",
       "      <td>Bangalore</td>\n",
       "      <td>PayPal</td>\n",
       "      <td>4.1</td>\n",
       "      <td>Company - Public</td>\n",
       "      <td>Internet</td>\n",
       "      <td>Information Technology</td>\n",
       "      <td>₹250K - ₹683K (Glassdoor Est.)</td>\n",
       "      <td>Who we are: Fueled by a fundamental belief tha...</td>\n",
       "    </tr>\n",
       "    <tr>\n",
       "      <th>2</th>\n",
       "      <td>Data Scientist</td>\n",
       "      <td>Gurgaon</td>\n",
       "      <td>Builder.ai - What would you Build?</td>\n",
       "      <td>3.7</td>\n",
       "      <td>Company - Private</td>\n",
       "      <td>Enterprise Software &amp; Network Solutions</td>\n",
       "      <td>Information Technology</td>\n",
       "      <td>₹527K - ₹798K (Glassdoor Est.)</td>\n",
       "      <td>About us\\n\\nInnovation is fuelled by the power...</td>\n",
       "    </tr>\n",
       "    <tr>\n",
       "      <th>3</th>\n",
       "      <td>Machine Learning Engineer - Java/Scala/Spark (...</td>\n",
       "      <td>Bangalore</td>\n",
       "      <td>Oracle</td>\n",
       "      <td>3.8</td>\n",
       "      <td>Company - Public</td>\n",
       "      <td>Enterprise Software &amp; Network Solutions</td>\n",
       "      <td>Information Technology</td>\n",
       "      <td>₹402K - ₹831K (Glassdoor Est.)</td>\n",
       "      <td>Oracle Cloud Infrastructure (OCI) is a strateg...</td>\n",
       "    </tr>\n",
       "    <tr>\n",
       "      <th>4</th>\n",
       "      <td>Data Scientist</td>\n",
       "      <td>Bangalore</td>\n",
       "      <td>Nutanix</td>\n",
       "      <td>3.9</td>\n",
       "      <td>Company - Public</td>\n",
       "      <td>Enterprise Software &amp; Network Solutions</td>\n",
       "      <td>Information Technology</td>\n",
       "      <td>₹457K - ₹899K (Glassdoor Est.)</td>\n",
       "      <td>We are looking for a Data Scientist who will s...</td>\n",
       "    </tr>\n",
       "  </tbody>\n",
       "</table>\n",
       "</div>"
      ],
      "text/plain": [
       "                                               Title   Location  \\\n",
       "0                     Data Scientist - CRM & Loyalty    Chennai   \n",
       "1                                   Data Scientist 1  Bangalore   \n",
       "2                                     Data Scientist    Gurgaon   \n",
       "3  Machine Learning Engineer - Java/Scala/Spark (...  Bangalore   \n",
       "4                                     Data Scientist  Bangalore   \n",
       "\n",
       "                              Company Rating          Ownership  \\\n",
       "0  Shell Business operations, Chennai    4.1   Company - Public   \n",
       "1                              PayPal    4.1   Company - Public   \n",
       "2  Builder.ai - What would you Build?    3.7  Company - Private   \n",
       "3                              Oracle    3.8   Company - Public   \n",
       "4                             Nutanix    3.9   Company - Public   \n",
       "\n",
       "                                  Industry                        Sector  \\\n",
       "0       Oil & Gas Exploration & Production  Oil, Gas, Energy & Utilities   \n",
       "1                                 Internet        Information Technology   \n",
       "2  Enterprise Software & Network Solutions        Information Technology   \n",
       "3  Enterprise Software & Network Solutions        Information Technology   \n",
       "4  Enterprise Software & Network Solutions        Information Technology   \n",
       "\n",
       "                           Salary  \\\n",
       "0                            None   \n",
       "1  ₹250K - ₹683K (Glassdoor Est.)   \n",
       "2  ₹527K - ₹798K (Glassdoor Est.)   \n",
       "3  ₹402K - ₹831K (Glassdoor Est.)   \n",
       "4  ₹457K - ₹899K (Glassdoor Est.)   \n",
       "\n",
       "                                         Description  \n",
       "0  General Position Definition\\nThis role will dr...  \n",
       "1  Who we are: Fueled by a fundamental belief tha...  \n",
       "2  About us\\n\\nInnovation is fuelled by the power...  \n",
       "3  Oracle Cloud Infrastructure (OCI) is a strateg...  \n",
       "4  We are looking for a Data Scientist who will s...  "
      ]
     },
     "execution_count": 2,
     "metadata": {},
     "output_type": "execute_result"
    }
   ],
   "source": [
    "# Reading and displying the dataset\n",
    "df = pd.read_csv('Data-Science-Salary.csv')\n",
    "df.head()"
   ]
  },
  {
   "cell_type": "code",
   "execution_count": 3,
   "metadata": {},
   "outputs": [
    {
     "data": {
      "text/html": [
       "<div>\n",
       "<style scoped>\n",
       "    .dataframe tbody tr th:only-of-type {\n",
       "        vertical-align: middle;\n",
       "    }\n",
       "\n",
       "    .dataframe tbody tr th {\n",
       "        vertical-align: top;\n",
       "    }\n",
       "\n",
       "    .dataframe thead th {\n",
       "        text-align: right;\n",
       "    }\n",
       "</style>\n",
       "<table border=\"1\" class=\"dataframe\">\n",
       "  <thead>\n",
       "    <tr style=\"text-align: right;\">\n",
       "      <th></th>\n",
       "      <th>Title</th>\n",
       "      <th>Location</th>\n",
       "      <th>Company</th>\n",
       "      <th>Rating</th>\n",
       "      <th>Ownership</th>\n",
       "      <th>Industry</th>\n",
       "      <th>Sector</th>\n",
       "      <th>Salary</th>\n",
       "      <th>Description</th>\n",
       "    </tr>\n",
       "  </thead>\n",
       "  <tbody>\n",
       "    <tr>\n",
       "      <th>845</th>\n",
       "      <td>Data Science Engg</td>\n",
       "      <td>New Delhi</td>\n",
       "      <td>growel softech</td>\n",
       "      <td>2.6</td>\n",
       "      <td>Company - Private</td>\n",
       "      <td>IT Service</td>\n",
       "      <td>Information Technology</td>\n",
       "      <td>₹313K - ₹607K (Glassdoor Est.)</td>\n",
       "      <td>Job Summary - Data Science Engg\\nBasic Details...</td>\n",
       "    </tr>\n",
       "    <tr>\n",
       "      <th>846</th>\n",
       "      <td>Junior Data Analyst</td>\n",
       "      <td>New Delhi</td>\n",
       "      <td>Cognizant</td>\n",
       "      <td>3.7</td>\n",
       "      <td>Company - Private</td>\n",
       "      <td>IT Service</td>\n",
       "      <td>Information Technology</td>\n",
       "      <td>₹322K - ₹484K (Glassdoor Est.)</td>\n",
       "      <td>None</td>\n",
       "    </tr>\n",
       "    <tr>\n",
       "      <th>847</th>\n",
       "      <td>Data Analyst</td>\n",
       "      <td>Maharashtra</td>\n",
       "      <td>Enovate Lifestyle Pvt Ltd.</td>\n",
       "      <td>2.9</td>\n",
       "      <td>Company - Private</td>\n",
       "      <td>None</td>\n",
       "      <td>None</td>\n",
       "      <td>None</td>\n",
       "      <td>Experience : Minimum 2 years\\nIn-depth knowled...</td>\n",
       "    </tr>\n",
       "    <tr>\n",
       "      <th>848</th>\n",
       "      <td>Lead Data Scientist</td>\n",
       "      <td>Maharashtra</td>\n",
       "      <td>Eaton</td>\n",
       "      <td>3.9</td>\n",
       "      <td>Company - Private</td>\n",
       "      <td>None</td>\n",
       "      <td>None</td>\n",
       "      <td>None</td>\n",
       "      <td>None</td>\n",
       "    </tr>\n",
       "    <tr>\n",
       "      <th>849</th>\n",
       "      <td>Dat Scientist IV</td>\n",
       "      <td>Bangalore</td>\n",
       "      <td>HP</td>\n",
       "      <td>4.1</td>\n",
       "      <td>Company - Public</td>\n",
       "      <td>Computer Hardware &amp; Software</td>\n",
       "      <td>Information Technology</td>\n",
       "      <td>₹647K - ₹689K (Glassdoor Est.)</td>\n",
       "      <td>Applies advanced subject matter knowledge to s...</td>\n",
       "    </tr>\n",
       "  </tbody>\n",
       "</table>\n",
       "</div>"
      ],
      "text/plain": [
       "                   Title     Location                     Company Rating  \\\n",
       "845    Data Science Engg    New Delhi              growel softech    2.6   \n",
       "846  Junior Data Analyst    New Delhi                   Cognizant    3.7   \n",
       "847         Data Analyst  Maharashtra  Enovate Lifestyle Pvt Ltd.    2.9   \n",
       "848  Lead Data Scientist  Maharashtra                       Eaton    3.9   \n",
       "849     Dat Scientist IV    Bangalore                          HP    4.1   \n",
       "\n",
       "             Ownership                      Industry                  Sector  \\\n",
       "845  Company - Private                    IT Service  Information Technology   \n",
       "846  Company - Private                    IT Service  Information Technology   \n",
       "847  Company - Private                          None                    None   \n",
       "848  Company - Private                          None                    None   \n",
       "849   Company - Public  Computer Hardware & Software  Information Technology   \n",
       "\n",
       "                             Salary  \\\n",
       "845  ₹313K - ₹607K (Glassdoor Est.)   \n",
       "846  ₹322K - ₹484K (Glassdoor Est.)   \n",
       "847                            None   \n",
       "848                            None   \n",
       "849  ₹647K - ₹689K (Glassdoor Est.)   \n",
       "\n",
       "                                           Description  \n",
       "845  Job Summary - Data Science Engg\\nBasic Details...  \n",
       "846                                               None  \n",
       "847  Experience : Minimum 2 years\\nIn-depth knowled...  \n",
       "848                                               None  \n",
       "849  Applies advanced subject matter knowledge to s...  "
      ]
     },
     "execution_count": 3,
     "metadata": {},
     "output_type": "execute_result"
    }
   ],
   "source": [
    "df.tail()"
   ]
  },
  {
   "cell_type": "code",
   "execution_count": 4,
   "metadata": {},
   "outputs": [
    {
     "name": "stdout",
     "output_type": "stream",
     "text": [
      "<class 'pandas.core.frame.DataFrame'>\n",
      "RangeIndex: 850 entries, 0 to 849\n",
      "Data columns (total 9 columns):\n",
      " #   Column       Non-Null Count  Dtype \n",
      "---  ------       --------------  ----- \n",
      " 0   Title        850 non-null    object\n",
      " 1   Location     850 non-null    object\n",
      " 2   Company      850 non-null    object\n",
      " 3   Rating       850 non-null    object\n",
      " 4   Ownership    850 non-null    object\n",
      " 5   Industry     850 non-null    object\n",
      " 6   Sector       850 non-null    object\n",
      " 7   Salary       850 non-null    object\n",
      " 8   Description  850 non-null    object\n",
      "dtypes: object(9)\n",
      "memory usage: 59.9+ KB\n"
     ]
    }
   ],
   "source": [
    "# Returns basic information on all columns\n",
    "df.info()"
   ]
  },
  {
   "cell_type": "code",
   "execution_count": 5,
   "metadata": {},
   "outputs": [
    {
     "data": {
      "text/plain": [
       "Title            0\n",
       "Location         0\n",
       "Company          0\n",
       "Rating         191\n",
       "Ownership      148\n",
       "Industry       308\n",
       "Sector         309\n",
       "Salary         264\n",
       "Description    251\n",
       "dtype: int64"
      ]
     },
     "execution_count": 5,
     "metadata": {},
     "output_type": "execute_result"
    }
   ],
   "source": [
    "df.eq('None').sum()"
   ]
  },
  {
   "cell_type": "code",
   "execution_count": 6,
   "metadata": {},
   "outputs": [
    {
     "data": {
      "text/html": [
       "<div>\n",
       "<style scoped>\n",
       "    .dataframe tbody tr th:only-of-type {\n",
       "        vertical-align: middle;\n",
       "    }\n",
       "\n",
       "    .dataframe tbody tr th {\n",
       "        vertical-align: top;\n",
       "    }\n",
       "\n",
       "    .dataframe thead th {\n",
       "        text-align: right;\n",
       "    }\n",
       "</style>\n",
       "<table border=\"1\" class=\"dataframe\">\n",
       "  <thead>\n",
       "    <tr style=\"text-align: right;\">\n",
       "      <th></th>\n",
       "      <th>Title</th>\n",
       "      <th>Location</th>\n",
       "      <th>Company</th>\n",
       "      <th>Rating</th>\n",
       "      <th>Ownership</th>\n",
       "      <th>Industry</th>\n",
       "      <th>Sector</th>\n",
       "      <th>Salary</th>\n",
       "      <th>Description</th>\n",
       "    </tr>\n",
       "  </thead>\n",
       "  <tbody>\n",
       "    <tr>\n",
       "      <th>102</th>\n",
       "      <td>Data Scientist</td>\n",
       "      <td>Coimbatore</td>\n",
       "      <td>Country Veggie</td>\n",
       "      <td>None</td>\n",
       "      <td>Company - Private</td>\n",
       "      <td>None</td>\n",
       "      <td>None</td>\n",
       "      <td>None</td>\n",
       "      <td>None</td>\n",
       "    </tr>\n",
       "    <tr>\n",
       "      <th>108</th>\n",
       "      <td>Data Scientist</td>\n",
       "      <td>Mumbai</td>\n",
       "      <td>DDR INFOSYSTEM</td>\n",
       "      <td>None</td>\n",
       "      <td>Company - Private</td>\n",
       "      <td>Enterprise Software &amp; Network Solutions</td>\n",
       "      <td>Information Technology</td>\n",
       "      <td>None</td>\n",
       "      <td>None</td>\n",
       "    </tr>\n",
       "    <tr>\n",
       "      <th>171</th>\n",
       "      <td>NLP Data Scientist - Cuddle.ai</td>\n",
       "      <td>Bangalore</td>\n",
       "      <td>Fractal.ai</td>\n",
       "      <td>None</td>\n",
       "      <td>None</td>\n",
       "      <td>None</td>\n",
       "      <td>None</td>\n",
       "      <td>None</td>\n",
       "      <td>NLP Data Scientist:\\nAbout Fractal :\\nFractal ...</td>\n",
       "    </tr>\n",
       "    <tr>\n",
       "      <th>174</th>\n",
       "      <td>Data Scientist</td>\n",
       "      <td>Gurgaon</td>\n",
       "      <td>Imurgence</td>\n",
       "      <td>None</td>\n",
       "      <td>Company - Private</td>\n",
       "      <td>Education Training Service</td>\n",
       "      <td>Education</td>\n",
       "      <td>None</td>\n",
       "      <td>None</td>\n",
       "    </tr>\n",
       "    <tr>\n",
       "      <th>177</th>\n",
       "      <td>Data Scientist</td>\n",
       "      <td>Remote</td>\n",
       "      <td>skilora</td>\n",
       "      <td>None</td>\n",
       "      <td>Company - Private</td>\n",
       "      <td>None</td>\n",
       "      <td>None</td>\n",
       "      <td>None</td>\n",
       "      <td>TELECOMMUTE LOCATION: Remote, US\\n\\nWe are loo...</td>\n",
       "    </tr>\n",
       "  </tbody>\n",
       "</table>\n",
       "</div>"
      ],
      "text/plain": [
       "                              Title    Location         Company Rating  \\\n",
       "102                  Data Scientist  Coimbatore  Country Veggie   None   \n",
       "108                  Data Scientist      Mumbai  DDR INFOSYSTEM   None   \n",
       "171  NLP Data Scientist - Cuddle.ai   Bangalore      Fractal.ai   None   \n",
       "174                  Data Scientist     Gurgaon       Imurgence   None   \n",
       "177                  Data Scientist      Remote         skilora   None   \n",
       "\n",
       "             Ownership                                 Industry  \\\n",
       "102  Company - Private                                     None   \n",
       "108  Company - Private  Enterprise Software & Network Solutions   \n",
       "171               None                                     None   \n",
       "174  Company - Private               Education Training Service   \n",
       "177  Company - Private                                     None   \n",
       "\n",
       "                     Sector Salary  \\\n",
       "102                    None   None   \n",
       "108  Information Technology   None   \n",
       "171                    None   None   \n",
       "174               Education   None   \n",
       "177                    None   None   \n",
       "\n",
       "                                           Description  \n",
       "102                                               None  \n",
       "108                                               None  \n",
       "171  NLP Data Scientist:\\nAbout Fractal :\\nFractal ...  \n",
       "174                                               None  \n",
       "177  TELECOMMUTE LOCATION: Remote, US\\n\\nWe are loo...  "
      ]
     },
     "execution_count": 6,
     "metadata": {},
     "output_type": "execute_result"
    }
   ],
   "source": [
    "df[(df['Salary'] == 'None') & (df['Rating'] == 'None')][:5]"
   ]
  },
  {
   "cell_type": "code",
   "execution_count": 7,
   "metadata": {},
   "outputs": [
    {
     "data": {
      "text/html": [
       "<div>\n",
       "<style scoped>\n",
       "    .dataframe tbody tr th:only-of-type {\n",
       "        vertical-align: middle;\n",
       "    }\n",
       "\n",
       "    .dataframe tbody tr th {\n",
       "        vertical-align: top;\n",
       "    }\n",
       "\n",
       "    .dataframe thead th {\n",
       "        text-align: right;\n",
       "    }\n",
       "</style>\n",
       "<table border=\"1\" class=\"dataframe\">\n",
       "  <thead>\n",
       "    <tr style=\"text-align: right;\">\n",
       "      <th></th>\n",
       "      <th>Title</th>\n",
       "      <th>Location</th>\n",
       "      <th>Company</th>\n",
       "      <th>Rating</th>\n",
       "      <th>Ownership</th>\n",
       "      <th>Industry</th>\n",
       "      <th>Sector</th>\n",
       "      <th>Salary</th>\n",
       "      <th>Description</th>\n",
       "    </tr>\n",
       "  </thead>\n",
       "  <tbody>\n",
       "    <tr>\n",
       "      <th>0</th>\n",
       "      <td>Data Scientist - CRM &amp; Loyalty</td>\n",
       "      <td>Chennai</td>\n",
       "      <td>Shell Business operations, Chennai</td>\n",
       "      <td>4.1</td>\n",
       "      <td>Company - Public</td>\n",
       "      <td>Oil &amp; Gas Exploration &amp; Production</td>\n",
       "      <td>Oil, Gas, Energy &amp; Utilities</td>\n",
       "      <td>None</td>\n",
       "      <td>General Position Definition\\nThis role will dr...</td>\n",
       "    </tr>\n",
       "    <tr>\n",
       "      <th>11</th>\n",
       "      <td>Data Scientist</td>\n",
       "      <td>Bangalore</td>\n",
       "      <td>NetApp</td>\n",
       "      <td>4.2</td>\n",
       "      <td>Company - Public</td>\n",
       "      <td>Enterprise Software &amp; Network Solutions</td>\n",
       "      <td>Information Technology</td>\n",
       "      <td>None</td>\n",
       "      <td>55021\\n\\nJob Summary\\nAnalyzes and develops fu...</td>\n",
       "    </tr>\n",
       "    <tr>\n",
       "      <th>16</th>\n",
       "      <td>Data Scientist</td>\n",
       "      <td>Bangalore</td>\n",
       "      <td>Honeywell</td>\n",
       "      <td>3.7</td>\n",
       "      <td>Company - Private</td>\n",
       "      <td>Education Training Service</td>\n",
       "      <td>Education</td>\n",
       "      <td>None</td>\n",
       "      <td>None</td>\n",
       "    </tr>\n",
       "    <tr>\n",
       "      <th>18</th>\n",
       "      <td>Data Scientist</td>\n",
       "      <td>Bangalore</td>\n",
       "      <td>zivame</td>\n",
       "      <td>3.7</td>\n",
       "      <td>Company - Private</td>\n",
       "      <td>Enterprise Software &amp; Network Solutions</td>\n",
       "      <td>Information Technology</td>\n",
       "      <td>None</td>\n",
       "      <td>None</td>\n",
       "    </tr>\n",
       "    <tr>\n",
       "      <th>20</th>\n",
       "      <td>Data Scientist</td>\n",
       "      <td>Bangalore</td>\n",
       "      <td>Agara</td>\n",
       "      <td>4.6</td>\n",
       "      <td>Company - Private</td>\n",
       "      <td>Enterprise Software &amp; Network Solutions</td>\n",
       "      <td>Information Technology</td>\n",
       "      <td>None</td>\n",
       "      <td>Data Scientist\\nAbout Agara:\\nMassive amounts ...</td>\n",
       "    </tr>\n",
       "  </tbody>\n",
       "</table>\n",
       "</div>"
      ],
      "text/plain": [
       "                             Title   Location  \\\n",
       "0   Data Scientist - CRM & Loyalty    Chennai   \n",
       "11                  Data Scientist  Bangalore   \n",
       "16                  Data Scientist  Bangalore   \n",
       "18                  Data Scientist  Bangalore   \n",
       "20                  Data Scientist  Bangalore   \n",
       "\n",
       "                               Company Rating          Ownership  \\\n",
       "0   Shell Business operations, Chennai    4.1   Company - Public   \n",
       "11                              NetApp    4.2   Company - Public   \n",
       "16                           Honeywell    3.7  Company - Private   \n",
       "18                              zivame    3.7  Company - Private   \n",
       "20                               Agara    4.6  Company - Private   \n",
       "\n",
       "                                   Industry                        Sector  \\\n",
       "0        Oil & Gas Exploration & Production  Oil, Gas, Energy & Utilities   \n",
       "11  Enterprise Software & Network Solutions        Information Technology   \n",
       "16               Education Training Service                     Education   \n",
       "18  Enterprise Software & Network Solutions        Information Technology   \n",
       "20  Enterprise Software & Network Solutions        Information Technology   \n",
       "\n",
       "   Salary                                        Description  \n",
       "0    None  General Position Definition\\nThis role will dr...  \n",
       "11   None  55021\\n\\nJob Summary\\nAnalyzes and develops fu...  \n",
       "16   None                                               None  \n",
       "18   None                                               None  \n",
       "20   None  Data Scientist\\nAbout Agara:\\nMassive amounts ...  "
      ]
     },
     "execution_count": 7,
     "metadata": {},
     "output_type": "execute_result"
    }
   ],
   "source": [
    "df[(df['Salary'] == 'None')][:5]"
   ]
  },
  {
   "cell_type": "code",
   "execution_count": 8,
   "metadata": {},
   "outputs": [],
   "source": [
    "df = df[df['Salary'] != 'None']"
   ]
  },
  {
   "cell_type": "code",
   "execution_count": 9,
   "metadata": {},
   "outputs": [
    {
     "data": {
      "text/plain": [
       "(586, 9)"
      ]
     },
     "execution_count": 9,
     "metadata": {},
     "output_type": "execute_result"
    }
   ],
   "source": [
    "df.shape"
   ]
  },
  {
   "cell_type": "code",
   "execution_count": 10,
   "metadata": {},
   "outputs": [],
   "source": [
    "df.drop(df[(df['Salary'] == 'None') & (df['Rating'] == 'None')].index, inplace = True)\n",
    "df.reset_index(inplace = True, drop = True)"
   ]
  },
  {
   "cell_type": "code",
   "execution_count": 11,
   "metadata": {},
   "outputs": [
    {
     "data": {
      "text/plain": [
       "Title            0\n",
       "Location         0\n",
       "Company          0\n",
       "Rating          95\n",
       "Ownership       71\n",
       "Industry       187\n",
       "Sector         188\n",
       "Salary           0\n",
       "Description    168\n",
       "dtype: int64"
      ]
     },
     "execution_count": 11,
     "metadata": {},
     "output_type": "execute_result"
    }
   ],
   "source": [
    "df.eq('None').sum()"
   ]
  },
  {
   "cell_type": "code",
   "execution_count": 12,
   "metadata": {},
   "outputs": [],
   "source": [
    "#Removing (Glassdoor Est.) from Salary entities\n",
    "salary = df['Salary'].apply(lambda x :  x.split('(')[0])"
   ]
  },
  {
   "cell_type": "code",
   "execution_count": 13,
   "metadata": {},
   "outputs": [],
   "source": [
    "#Replacing the (k, ₹) to space from Salary entities\n",
    "df['remove_k'] = salary.apply(lambda x: x.replace(\"K\",\"\").replace(\"₹\",\"\"))\n",
    "\n",
    "# Taking the first salary as min salary\n",
    "df['min_salary'] = df['remove_k'].apply(lambda x: int(x.split('-')[0]))"
   ]
  },
  {
   "cell_type": "code",
   "execution_count": 14,
   "metadata": {},
   "outputs": [
    {
     "data": {
      "text/plain": [
       "0    250\n",
       "1    527\n",
       "2    402\n",
       "3    457\n",
       "4    540\n",
       "5    541\n",
       "Name: min_salary, dtype: int64"
      ]
     },
     "execution_count": 14,
     "metadata": {},
     "output_type": "execute_result"
    }
   ],
   "source": [
    "df['min_salary'][:6]"
   ]
  },
  {
   "cell_type": "code",
   "execution_count": 15,
   "metadata": {},
   "outputs": [
    {
     "data": {
      "text/plain": [
       "0    250 - 683 \n",
       "1    527 - 798 \n",
       "2    402 - 831 \n",
       "3    457 - 899 \n",
       "4    540 - 724 \n",
       "5    541 - 800 \n",
       "Name: remove_k, dtype: object"
      ]
     },
     "execution_count": 15,
     "metadata": {},
     "output_type": "execute_result"
    }
   ],
   "source": [
    "df['remove_k'][:6]"
   ]
  },
  {
   "cell_type": "code",
   "execution_count": 16,
   "metadata": {},
   "outputs": [],
   "source": [
    "# Adding Min and Max Salary to our Dataset\n",
    "df['max_salary'] = df['remove_k'].apply(lambda x: x.replace(\" \",\"\").replace(',',''))\n",
    "df['max_salary'] = df['max_salary'].apply(lambda x: int(x.split('-')[-1]))"
   ]
  },
  {
   "cell_type": "code",
   "execution_count": 17,
   "metadata": {},
   "outputs": [
    {
     "data": {
      "text/plain": [
       "0    683\n",
       "1    798\n",
       "2    831\n",
       "3    899\n",
       "4    724\n",
       "5    800\n",
       "Name: max_salary, dtype: int64"
      ]
     },
     "execution_count": 17,
     "metadata": {},
     "output_type": "execute_result"
    }
   ],
   "source": [
    "df['max_salary'][:6]"
   ]
  },
  {
   "cell_type": "code",
   "execution_count": 18,
   "metadata": {},
   "outputs": [],
   "source": [
    "df.drop('remove_k' , inplace=True , axis=1)"
   ]
  },
  {
   "cell_type": "code",
   "execution_count": 19,
   "metadata": {},
   "outputs": [],
   "source": [
    "# Calculating Average of Min and Max Salary and adding it to our dataset\n",
    "df['avg_salary'] = (df['min_salary']+df['max_salary'])/2"
   ]
  },
  {
   "cell_type": "code",
   "execution_count": 20,
   "metadata": {},
   "outputs": [
    {
     "data": {
      "text/html": [
       "<div>\n",
       "<style scoped>\n",
       "    .dataframe tbody tr th:only-of-type {\n",
       "        vertical-align: middle;\n",
       "    }\n",
       "\n",
       "    .dataframe tbody tr th {\n",
       "        vertical-align: top;\n",
       "    }\n",
       "\n",
       "    .dataframe thead th {\n",
       "        text-align: right;\n",
       "    }\n",
       "</style>\n",
       "<table border=\"1\" class=\"dataframe\">\n",
       "  <thead>\n",
       "    <tr style=\"text-align: right;\">\n",
       "      <th></th>\n",
       "      <th>Title</th>\n",
       "      <th>Location</th>\n",
       "      <th>Company</th>\n",
       "      <th>Rating</th>\n",
       "      <th>Ownership</th>\n",
       "      <th>Industry</th>\n",
       "      <th>Sector</th>\n",
       "      <th>Salary</th>\n",
       "      <th>Description</th>\n",
       "      <th>min_salary</th>\n",
       "      <th>max_salary</th>\n",
       "      <th>avg_salary</th>\n",
       "    </tr>\n",
       "  </thead>\n",
       "  <tbody>\n",
       "    <tr>\n",
       "      <th>0</th>\n",
       "      <td>Data Scientist 1</td>\n",
       "      <td>Bangalore</td>\n",
       "      <td>PayPal</td>\n",
       "      <td>4.1</td>\n",
       "      <td>Company - Public</td>\n",
       "      <td>Internet</td>\n",
       "      <td>Information Technology</td>\n",
       "      <td>₹250K - ₹683K (Glassdoor Est.)</td>\n",
       "      <td>Who we are: Fueled by a fundamental belief tha...</td>\n",
       "      <td>250</td>\n",
       "      <td>683</td>\n",
       "      <td>466.5</td>\n",
       "    </tr>\n",
       "    <tr>\n",
       "      <th>1</th>\n",
       "      <td>Data Scientist</td>\n",
       "      <td>Gurgaon</td>\n",
       "      <td>Builder.ai - What would you Build?</td>\n",
       "      <td>3.7</td>\n",
       "      <td>Company - Private</td>\n",
       "      <td>Enterprise Software &amp; Network Solutions</td>\n",
       "      <td>Information Technology</td>\n",
       "      <td>₹527K - ₹798K (Glassdoor Est.)</td>\n",
       "      <td>About us\\n\\nInnovation is fuelled by the power...</td>\n",
       "      <td>527</td>\n",
       "      <td>798</td>\n",
       "      <td>662.5</td>\n",
       "    </tr>\n",
       "    <tr>\n",
       "      <th>2</th>\n",
       "      <td>Machine Learning Engineer - Java/Scala/Spark (...</td>\n",
       "      <td>Bangalore</td>\n",
       "      <td>Oracle</td>\n",
       "      <td>3.8</td>\n",
       "      <td>Company - Public</td>\n",
       "      <td>Enterprise Software &amp; Network Solutions</td>\n",
       "      <td>Information Technology</td>\n",
       "      <td>₹402K - ₹831K (Glassdoor Est.)</td>\n",
       "      <td>Oracle Cloud Infrastructure (OCI) is a strateg...</td>\n",
       "      <td>402</td>\n",
       "      <td>831</td>\n",
       "      <td>616.5</td>\n",
       "    </tr>\n",
       "    <tr>\n",
       "      <th>3</th>\n",
       "      <td>Data Scientist</td>\n",
       "      <td>Bangalore</td>\n",
       "      <td>Nutanix</td>\n",
       "      <td>3.9</td>\n",
       "      <td>Company - Public</td>\n",
       "      <td>Enterprise Software &amp; Network Solutions</td>\n",
       "      <td>Information Technology</td>\n",
       "      <td>₹457K - ₹899K (Glassdoor Est.)</td>\n",
       "      <td>We are looking for a Data Scientist who will s...</td>\n",
       "      <td>457</td>\n",
       "      <td>899</td>\n",
       "      <td>678.0</td>\n",
       "    </tr>\n",
       "    <tr>\n",
       "      <th>4</th>\n",
       "      <td>Data Scientist</td>\n",
       "      <td>Chennai</td>\n",
       "      <td>Paypal</td>\n",
       "      <td>4.1</td>\n",
       "      <td>Company - Public</td>\n",
       "      <td>Internet</td>\n",
       "      <td>Information Technology</td>\n",
       "      <td>₹540K - ₹724K (Glassdoor Est.)</td>\n",
       "      <td>At PayPal, were literally reinventing how the ...</td>\n",
       "      <td>540</td>\n",
       "      <td>724</td>\n",
       "      <td>632.0</td>\n",
       "    </tr>\n",
       "  </tbody>\n",
       "</table>\n",
       "</div>"
      ],
      "text/plain": [
       "                                               Title   Location  \\\n",
       "0                                   Data Scientist 1  Bangalore   \n",
       "1                                     Data Scientist    Gurgaon   \n",
       "2  Machine Learning Engineer - Java/Scala/Spark (...  Bangalore   \n",
       "3                                     Data Scientist  Bangalore   \n",
       "4                                     Data Scientist    Chennai   \n",
       "\n",
       "                              Company Rating          Ownership  \\\n",
       "0                              PayPal    4.1   Company - Public   \n",
       "1  Builder.ai - What would you Build?    3.7  Company - Private   \n",
       "2                              Oracle    3.8   Company - Public   \n",
       "3                             Nutanix    3.9   Company - Public   \n",
       "4                              Paypal    4.1   Company - Public   \n",
       "\n",
       "                                  Industry                  Sector  \\\n",
       "0                                 Internet  Information Technology   \n",
       "1  Enterprise Software & Network Solutions  Information Technology   \n",
       "2  Enterprise Software & Network Solutions  Information Technology   \n",
       "3  Enterprise Software & Network Solutions  Information Technology   \n",
       "4                                 Internet  Information Technology   \n",
       "\n",
       "                           Salary  \\\n",
       "0  ₹250K - ₹683K (Glassdoor Est.)   \n",
       "1  ₹527K - ₹798K (Glassdoor Est.)   \n",
       "2  ₹402K - ₹831K (Glassdoor Est.)   \n",
       "3  ₹457K - ₹899K (Glassdoor Est.)   \n",
       "4  ₹540K - ₹724K (Glassdoor Est.)   \n",
       "\n",
       "                                         Description  min_salary  max_salary  \\\n",
       "0  Who we are: Fueled by a fundamental belief tha...         250         683   \n",
       "1  About us\\n\\nInnovation is fuelled by the power...         527         798   \n",
       "2  Oracle Cloud Infrastructure (OCI) is a strateg...         402         831   \n",
       "3  We are looking for a Data Scientist who will s...         457         899   \n",
       "4  At PayPal, were literally reinventing how the ...         540         724   \n",
       "\n",
       "   avg_salary  \n",
       "0       466.5  \n",
       "1       662.5  \n",
       "2       616.5  \n",
       "3       678.0  \n",
       "4       632.0  "
      ]
     },
     "execution_count": 20,
     "metadata": {},
     "output_type": "execute_result"
    }
   ],
   "source": [
    "df.head()"
   ]
  },
  {
   "cell_type": "code",
   "execution_count": 21,
   "metadata": {},
   "outputs": [],
   "source": [
    "#df['Company Name'] = df.apply(lambda x: x['Company'] if x['Rating'] =='None' else x['Company'][:-1].replace('\\n', ''), axis = 1)"
   ]
  },
  {
   "cell_type": "code",
   "execution_count": 22,
   "metadata": {},
   "outputs": [
    {
     "data": {
      "text/plain": [
       "array(['Bangalore', 'Gurgaon', 'Chennai', 'Pune', 'SAS Nagar', 'Cochin',\n",
       "       'Jaipur', 'Thiruvananthapuram', 'India', 'Mumbai', 'Hyderābād',\n",
       "       'Ahmedabad', 'New Delhi', 'Gāndhīnagar', 'Maharashtra',\n",
       "       'Chandigarh', 'Coimbatore', 'Noida', 'Calcutta', 'Bhubaneshwar',\n",
       "       'Farīdābād', 'Indore', 'Remote', 'Ara', 'Mangalore', 'Guwahati',\n",
       "       'Vijayawāda', 'Nellore', 'Navi Mumbai', 'Calicut', 'Nāgpur',\n",
       "       'Tiruchchirāppalli', 'Madurai', 'Udaipur', 'Bāra Banki', 'Chatra',\n",
       "       'Vadodara', 'Ambāla', 'Mysore', 'Tiruppūr', 'Vellore'],\n",
       "      dtype=object)"
      ]
     },
     "execution_count": 22,
     "metadata": {},
     "output_type": "execute_result"
    }
   ],
   "source": [
    "df['Location'].unique()"
   ]
  },
  {
   "cell_type": "code",
   "execution_count": 23,
   "metadata": {},
   "outputs": [],
   "source": [
    "# Tuning the worng spelling of Location to its right spelling.\n",
    "df['Location'].replace({'Hyderābād':'Hyderabad','Gāndhīnagar':'Gandhinagar','Farīdābād':'Faridabad','Ara':'Agra',\n",
    "                        'Vijayawāda':'Vijayawada','Nāgpur':'Nagpur','Tiruchchirāppalli':'Tiruchchirappalli',\n",
    "                        'Bāra Banki':'Bara Banki','Ambāla':'Ambala','Tiruppūr':'Tiruppur'} , inplace=True)"
   ]
  },
  {
   "cell_type": "code",
   "execution_count": 24,
   "metadata": {},
   "outputs": [
    {
     "data": {
      "text/plain": [
       "array(['Bangalore', 'Gurgaon', 'Chennai', 'Pune', 'SAS Nagar', 'Cochin',\n",
       "       'Jaipur', 'Thiruvananthapuram', 'India', 'Mumbai', 'Hyderabad',\n",
       "       'Ahmedabad', 'New Delhi', 'Gandhinagar', 'Maharashtra',\n",
       "       'Chandigarh', 'Coimbatore', 'Noida', 'Calcutta', 'Bhubaneshwar',\n",
       "       'Faridabad', 'Indore', 'Remote', 'Agra', 'Mangalore', 'Guwahati',\n",
       "       'Vijayawada', 'Nellore', 'Navi Mumbai', 'Calicut', 'Nagpur',\n",
       "       'Tiruchchirappalli', 'Madurai', 'Udaipur', 'Bara Banki', 'Chatra',\n",
       "       'Vadodara', 'Ambala', 'Mysore', 'Tiruppur', 'Vellore'],\n",
       "      dtype=object)"
      ]
     },
     "execution_count": 24,
     "metadata": {},
     "output_type": "execute_result"
    }
   ],
   "source": [
    "df['Location'].unique()"
   ]
  },
  {
   "cell_type": "code",
   "execution_count": 25,
   "metadata": {},
   "outputs": [
    {
     "data": {
      "text/plain": [
       "array(['Company - Public', 'Company - Private',\n",
       "       'Subsidiary or Business Segment', 'None',\n",
       "       'Private Practice / Firm', 'Self-employed', 'Government',\n",
       "       'Non-profit Organisation', 'Contract', 'Unknown',\n",
       "       'College / University'], dtype=object)"
      ]
     },
     "execution_count": 25,
     "metadata": {},
     "output_type": "execute_result"
    }
   ],
   "source": [
    "df['Ownership'].unique()"
   ]
  },
  {
   "cell_type": "code",
   "execution_count": 26,
   "metadata": {},
   "outputs": [
    {
     "data": {
      "text/plain": [
       "Company - Private                 292\n",
       "Company - Public                  201\n",
       "None                               71\n",
       "Subsidiary or Business Segment      8\n",
       "Unknown                             3\n",
       "Non-profit Organisation             3\n",
       "Government                          3\n",
       "Contract                            2\n",
       "Self-employed                       1\n",
       "College / University                1\n",
       "Private Practice / Firm             1\n",
       "Name: Ownership, dtype: int64"
      ]
     },
     "execution_count": 26,
     "metadata": {},
     "output_type": "execute_result"
    }
   ],
   "source": [
    "# Total counts of each values in Ownership attribute\n",
    "df['Ownership'].value_counts()"
   ]
  },
  {
   "cell_type": "markdown",
   "metadata": {},
   "source": [
    "### Ownershiw contaion many different variable which we are converting tem into main useful variable such as (Public, Private and other all to Other Organization)"
   ]
  },
  {
   "cell_type": "code",
   "execution_count": 27,
   "metadata": {},
   "outputs": [
    {
     "data": {
      "text/plain": [
       "array(['Company - Public', 'Company - Private',\n",
       "       'Subsidiary or Business Segment', 'None',\n",
       "       'Private Practice / Firm', 'Self-employed', 'Government',\n",
       "       'Non-profit Organisation', 'Contract', 'Unknown',\n",
       "       'College / University'], dtype=object)"
      ]
     },
     "execution_count": 27,
     "metadata": {},
     "output_type": "execute_result"
    }
   ],
   "source": [
    "df['Ownership'].unique()"
   ]
  },
  {
   "cell_type": "code",
   "execution_count": 28,
   "metadata": {},
   "outputs": [],
   "source": [
    "def ownership_simplifier(text):\n",
    "    if 'private' in text.lower():\n",
    "        return 'Private'\n",
    "    elif 'public' in text.lower() or ('government' in text.lower()):\n",
    "        return 'Public'\n",
    "    elif ('none' in text.lower()) or ('unknown' in text.lower()) or ('college / university' in text.lower()) or ('private practice / firm' in text.lower()) or ('contract' in text.lower()) or ('self-employed' in text.lower()) or ('subsidiary or business segment' in text.lower()) or ('non-profit organisation' in text.lower()):\n",
    "        return 'Other Organization'\n",
    "    else:\n",
    "        return text\n",
    "\n",
    "df['Type_of_ownership'] = df['Ownership'].apply(ownership_simplifier)"
   ]
  },
  {
   "cell_type": "code",
   "execution_count": 29,
   "metadata": {},
   "outputs": [
    {
     "data": {
      "text/plain": [
       "Private               293\n",
       "Public                204\n",
       "Other Organization     89\n",
       "Name: Type_of_ownership, dtype: int64"
      ]
     },
     "execution_count": 29,
     "metadata": {},
     "output_type": "execute_result"
    }
   ],
   "source": [
    "df['Type_of_ownership'].value_counts()"
   ]
  },
  {
   "cell_type": "markdown",
   "metadata": {},
   "source": [
    "## Extraction the Important Words for the Description column and convertion them into :\n",
    "- 0 if the word not contain in the Description\n",
    "- 1 if the word contain in the Description"
   ]
  },
  {
   "cell_type": "code",
   "execution_count": 30,
   "metadata": {},
   "outputs": [
    {
     "data": {
      "text/plain": [
       "\"Oracle Cloud Infrastructure (OCI) is a strategic growth area for Oracle. It is a comprehensive cloud service offering in the enterprise software industry, spanning Infrastructure as a Service (IaaS), Platform as a Service (PaaS) and Software as a Service (SaaS). OCI is currently building a future-ready Gen2 cloud Data Science service platform. At the core of this platform, lies Cloud AI Cloud Service.\\nWhat OCI AI Cloud Services are: A set of services on public cloud, that are powered by ML and AI to meet the Enterprise modernization needs, and that work out of the box. These services and models can be easily specialized for specific customer/domain by leveraging existing OCI services.\\nKey Points: Enables customers to add AI capabilities to their Apps and Workflows easily via APIs or Containers, Useable without needing to build AI expertise in-house and Covers key gaps – Decision Support, NLP, Computer Vision, for Public Clouds and Enterprise in NLU, NLP, Vision and Conversational AI.\\nYou’re Opportunity: As we blaze the trail to provide a single collaborative ML environment for data-science professionals, we will be extremely happy to have you join us and share the very future of our Machine Learning platform - by building an AI Cloud service.\\nWe are addressing exciting challenges at the intersection of artificial intelligence and cutting-edge cloud infrastructure. We are building cloud services in Decision Support (Anomaly Detection, Time series forecasting, Fraud detection, Content moderation, Risk prevention, predictive analytics), computer vision, natural language processing (NLP) and, speech that works out of the box for enterprises. Our product vision includes the ability for enterprises to be able to customize the services for their business and train them to specialize in their data by creating micro models that enhance the global AI models.\\n\\nWhat You’ll Do\\nDevelop scalable infrastructure that automates training and deployment of ML models.\\nBrainstorm and Design various POCs using ML/DL/NLP solutions for new or existing enterprise problems.\\nWork with fellow data scientists/SW engineers to build out other parts of the infrastructure, effectively communicating your needs and understanding theirs and address external and internal shareholder's product challenges.\\nBuilding core of Artificial Intelligence and AI Service as Decision Support, Vision, Speech, Text, NLP, NLU, and others.\\nLeverage Cloud technology – Oracle Cloud (OCI), AWS, GCP, Azure, Heroku or similar technology.\\nExperiment with ML models in Python using machine learning libraries (Pytorch, Tensorflow), Big Data, Hadoop, HBase, Spark, etc\\nQualifications\\nMaster’s degree (preferred) in computer science, Statistics or Mathematics, artificial intelligence, machine learning, speech recognition, natural language processing, operations research, or related technical field.\\n1+ year for PhD, 4+ yearfor Masters or 6+ years of Experience designing and implementing machine learning models in production environments.\\nExpert in at least one high level language such as Scala/Java/F#/C#/C++ (Scala and Java preferred)\\nExpert in at least one scripting language such as Python, Javascript, Shell (Python and Javascript preferred)\\nWorking knowledge of current techniques and approaches in machine learning and statistical or mathematical models\\nPractical experience in Big Data technologies – Spark, Hadoop, Object Storage (S3), Kafka\\nPractical experience working in a cloud environment: Oracle Cloud (OCI), AWS, GCP, Azure, Heroku or similar technology.\\nExperience or willingness to learn and work in Agile and iterative development and DevOps processes.\\nStrong drive to learn and master new technologies and techniques.\\nDeep understanding of data structures, algorithms, and excellent problem-solving skills.\\nYou enjoy a fast-paced work environment.\\n\\nAdditional Preferred Qualifications\\nExperience with Cloud Native Frameworks tools and products is a plus\\nHaving an impressive set of github projects or contributions to open source technologies is a plus\\nHands-on experience with horizontally scalable data stores such as Hadoop and other NoSQL technologies like Cassandra\\nOur vision is to provide an immersive AI experience on Oracle Cloud. Aggressive as it might sound, our growth journey is fueled by highly energetic, technology savvy engineers like YOU who are looking to grow with us to meet the demands of building a powerful next-generation platform. Are you ready to do something big? Design, develop, troubleshoot and debug software programs for databases, applications, tools, networks etc.\\n\\nAs a member of the software engineering division, you will assist in defining and developing software for tasks associated with the developing, debugging or designing of software applications or operating systems. Provide technical leadership to other software developers. Specify, design and implement modest changes to existing software architecture to meet changing needs.\\n\\nDuties and tasks are varied and complex needing independent judgment. Fully competent in own area of expertise. May have project lead role and or supervise lower level personnel. BS or MS degree or equivalent experience relevant to functional area. 4 years of software engineering or related experience.\""
      ]
     },
     "execution_count": 30,
     "metadata": {},
     "output_type": "execute_result"
    }
   ],
   "source": [
    "df['Description'][2]"
   ]
  },
  {
   "cell_type": "code",
   "execution_count": 31,
   "metadata": {},
   "outputs": [
    {
     "data": {
      "text/plain": [
       "0    293\n",
       "1    293\n",
       "Name: Python, dtype: int64"
      ]
     },
     "execution_count": 31,
     "metadata": {},
     "output_type": "execute_result"
    }
   ],
   "source": [
    "#python\n",
    "df['Python'] = df['Description'].apply(lambda x: 1 if 'python' in x.lower()  else 0)\n",
    "df.Python.value_counts()"
   ]
  },
  {
   "cell_type": "code",
   "execution_count": 32,
   "metadata": {},
   "outputs": [
    {
     "data": {
      "text/plain": [
       "0    501\n",
       "1     85\n",
       "Name: Aws, dtype: int64"
      ]
     },
     "execution_count": 32,
     "metadata": {},
     "output_type": "execute_result"
    }
   ],
   "source": [
    "#aws \n",
    "df['Aws'] = df['Description'].apply(lambda x: 1 if 'aws' in x.lower() else 0)\n",
    "df.Aws.value_counts()"
   ]
  },
  {
   "cell_type": "code",
   "execution_count": 33,
   "metadata": {},
   "outputs": [
    {
     "data": {
      "text/plain": [
       "0    371\n",
       "1    215\n",
       "Name: Excel, dtype: int64"
      ]
     },
     "execution_count": 33,
     "metadata": {},
     "output_type": "execute_result"
    }
   ],
   "source": [
    "#excel\n",
    "df['Excel'] = df['Description'].apply(lambda x: 1 if 'excel' in x.lower() else 0)\n",
    "df.Excel.value_counts()"
   ]
  },
  {
   "cell_type": "code",
   "execution_count": 34,
   "metadata": {},
   "outputs": [
    {
     "data": {
      "text/plain": [
       "0    381\n",
       "1    205\n",
       "Name: Deep_learning, dtype: int64"
      ]
     },
     "execution_count": 34,
     "metadata": {},
     "output_type": "execute_result"
    }
   ],
   "source": [
    "#DL Deep Learning\n",
    "df['Deep_learning'] = df['Description'].apply(lambda x: 1 if 'Deep learning' in x or 'Deep-learning' in x.lower()  or 'deep-learning' in x.lower()  or 'deep learning' in x.lower() or 'deep learning' in x.lower() or 'deep learning' in x.lower() or 'dl' in x.lower() else 0)\n",
    "df.Deep_learning.value_counts()"
   ]
  },
  {
   "cell_type": "code",
   "execution_count": 35,
   "metadata": {},
   "outputs": [
    {
     "data": {
      "text/plain": [
       "0    315\n",
       "1    271\n",
       "Name: Macine_learning, dtype: int64"
      ]
     },
     "execution_count": 35,
     "metadata": {},
     "output_type": "execute_result"
    }
   ],
   "source": [
    "#ML  Machine learning\n",
    "df['Macine_learning'] = df['Description'].apply(lambda x: 1 if ('machine-learning' in x.lower())  or ('machine learning' in x.lower()) or ('ml' in x.lower())  else 0)\n",
    "df.Macine_learning.value_counts()"
   ]
  },
  {
   "cell_type": "code",
   "execution_count": 36,
   "metadata": {},
   "outputs": [
    {
     "data": {
      "text/plain": [
       "0    512\n",
       "1     74\n",
       "Name: Bachelors, dtype: int64"
      ]
     },
     "execution_count": 36,
     "metadata": {},
     "output_type": "execute_result"
    }
   ],
   "source": [
    "df['Bachelors'] = df['Description'].apply(lambda x: 1 if ('Bachelors' in x.lower())  or ('bachelors' in x.lower()) or (\"bachelor's\" in x.lower()) or ('B.Tech' in x.lower()) else 0)\n",
    "df.Bachelors.value_counts()"
   ]
  },
  {
   "cell_type": "code",
   "execution_count": 37,
   "metadata": {},
   "outputs": [
    {
     "data": {
      "text/plain": [
       "1    374\n",
       "0    212\n",
       "Name: Masters, dtype: int64"
      ]
     },
     "execution_count": 37,
     "metadata": {},
     "output_type": "execute_result"
    }
   ],
   "source": [
    "df['Masters'] = df['Description'].apply(lambda x: 1 if ('masters' in x.lower())  or ('masters' in x.lower()) or ('ms' in x.lower()) else 0)\n",
    "df.Masters.value_counts()"
   ]
  },
  {
   "cell_type": "markdown",
   "metadata": {},
   "source": [
    "## Now we are extracting the Job Type from the Description columns such as : \n",
    "- Full Time \n",
    "- Part Time\n",
    "- Internship\n",
    "- Other "
   ]
  },
  {
   "cell_type": "code",
   "execution_count": 38,
   "metadata": {},
   "outputs": [],
   "source": [
    "def jobType(description):\n",
    "    if 'full-time' in description.lower() or 'full time' in description.lower():\n",
    "        return 'Full-time'\n",
    "    elif 'part-time' in description.lower() or 'part time' in description.lower():\n",
    "        return 'Part-time'\n",
    "    elif 'intern' in description.lower() or 'internship' in description.lower() or 'training' in description.lower():\n",
    "        return 'Internship'\n",
    "    else: \n",
    "        return 'Other'"
   ]
  },
  {
   "cell_type": "code",
   "execution_count": 39,
   "metadata": {},
   "outputs": [
    {
     "data": {
      "text/plain": [
       "Other         396\n",
       "Internship    112\n",
       "Full-time      75\n",
       "Part-time       3\n",
       "Name: Job_type, dtype: int64"
      ]
     },
     "execution_count": 39,
     "metadata": {},
     "output_type": "execute_result"
    }
   ],
   "source": [
    "df['Job_type']= df['Description'].apply(jobType)\n",
    "df['Job_type'].value_counts()"
   ]
  },
  {
   "cell_type": "markdown",
   "metadata": {},
   "source": [
    "## Extracting the Job Title from the Title columns such as :\n",
    "- Data Scientist, Data Engineer, Machine Learing, Analyst and Other\n",
    "\n",
    "## Also we are distributing the job into :\n",
    "- Senior, Junior and Other Title\n"
   ]
  },
  {
   "cell_type": "code",
   "execution_count": 40,
   "metadata": {},
   "outputs": [],
   "source": [
    "# Refrence :- https://github.com/PlayingNumbers/ds_salary_proj/blob/master/data_cleaning.ipynb\n",
    "\n",
    "def title_simplifier(title):\n",
    "    if 'data scientist' in title.lower():\n",
    "        return 'Data Scientist'\n",
    "    elif 'data science' in title.lower():\n",
    "        return 'Data Scientist'\n",
    "    elif 'data engineer' in title.lower():\n",
    "        return 'Data Engineer'\n",
    "    elif 'analyst' in title.lower():\n",
    "        return 'Analyst'\n",
    "    elif 'machine learning' in title.lower():\n",
    "        return 'Machine Learing'\n",
    "    else:\n",
    "        return 'Other'\n",
    "    \n",
    "def seniority(title):\n",
    "    if 'sr' in title.lower() or 'senior' in title.lower() or 'sr' in title.lower() or 'lead' in title.lower() or 'principal' in title.lower():\n",
    "            return 'Senior'\n",
    "    elif 'jr' in title.lower() or 'jr.' in title.lower() or 'junior' in title.lower() or 'intern' in title.lower():\n",
    "        return 'Junior'\n",
    "    else: \n",
    "        return 'Other'"
   ]
  },
  {
   "cell_type": "code",
   "execution_count": 41,
   "metadata": {},
   "outputs": [
    {
     "data": {
      "text/plain": [
       "Data Scientist     357\n",
       "Analyst            156\n",
       "Other               30\n",
       "Data Engineer       30\n",
       "Machine Learing     13\n",
       "Name: Job_simp, dtype: int64"
      ]
     },
     "execution_count": 41,
     "metadata": {},
     "output_type": "execute_result"
    }
   ],
   "source": [
    "df['Job_simp']= df['Title'].apply(title_simplifier)\n",
    "df['Job_simp'].value_counts()"
   ]
  },
  {
   "cell_type": "code",
   "execution_count": 42,
   "metadata": {},
   "outputs": [
    {
     "data": {
      "text/plain": [
       "Other     469\n",
       "Senior    111\n",
       "Junior      6\n",
       "Name: Seniority_simp, dtype: int64"
      ]
     },
     "execution_count": 42,
     "metadata": {},
     "output_type": "execute_result"
    }
   ],
   "source": [
    "df['Seniority_simp'] = df['Title'].apply(seniority)\n",
    "df.Seniority_simp.value_counts()"
   ]
  },
  {
   "cell_type": "markdown",
   "metadata": {},
   "source": [
    "## Industry Label contains many variables which can be further distributed into Manufacturing, Service, Etc"
   ]
  },
  {
   "cell_type": "code",
   "execution_count": 43,
   "metadata": {},
   "outputs": [],
   "source": [
    "def induesty_simplifier(induesty):\n",
    "    if 'manufacturing' in induesty.lower():\n",
    "        return 'Manufacturing'\n",
    "    elif 'service' in induesty.lower():\n",
    "        return 'Service'\n",
    "    elif 'software' in induesty.lower():\n",
    "        return 'Software'\n",
    "    elif 'internet' in induesty.lower():\n",
    "        return 'Internet'\n",
    "    elif 'consulting' in induesty.lower():\n",
    "        return 'Consulting'\n",
    "    else:\n",
    "        return 'Other'"
   ]
  },
  {
   "cell_type": "code",
   "execution_count": 44,
   "metadata": {},
   "outputs": [
    {
     "data": {
      "text/plain": [
       "Other            277\n",
       "Software         116\n",
       "Service          100\n",
       "Internet          44\n",
       "Consulting        26\n",
       "Manufacturing     23\n",
       "Name: Industry_simp, dtype: int64"
      ]
     },
     "execution_count": 44,
     "metadata": {},
     "output_type": "execute_result"
    }
   ],
   "source": [
    "df['Industry_simp']= df['Industry'].apply(induesty_simplifier)\n",
    "df['Industry_simp'].value_counts()"
   ]
  },
  {
   "cell_type": "markdown",
   "metadata": {},
   "source": [
    "## Sector section contains many variables which can be further distributed into Manufacturing, Service, Etc"
   ]
  },
  {
   "cell_type": "code",
   "execution_count": 45,
   "metadata": {},
   "outputs": [],
   "source": [
    "def sector_simplifier(sector):\n",
    "    if 'manufacturing' in sector.lower() or 'retail' in sector.lower():\n",
    "        return 'Manufacturing'\n",
    "    elif 'services' in sector.lower():\n",
    "        return 'Services'\n",
    "    elif 'information technology' in sector.lower():\n",
    "        return 'Information Technology'\n",
    "    elif 'finance' in sector.lower() or 'insurance' in sector.lower():\n",
    "        return 'Finance'\n",
    "    elif 'pharmaceuticals' in sector.lower() or 'health' in sector.lower():\n",
    "        return 'Health Care'\n",
    "    else:\n",
    "        return 'Other'"
   ]
  },
  {
   "cell_type": "code",
   "execution_count": 46,
   "metadata": {},
   "outputs": [
    {
     "data": {
      "text/plain": [
       "Information Technology    236\n",
       "Other                     220\n",
       "Services                   57\n",
       "Manufacturing              34\n",
       "Finance                    24\n",
       "Health Care                15\n",
       "Name: Sectors_simp, dtype: int64"
      ]
     },
     "execution_count": 46,
     "metadata": {},
     "output_type": "execute_result"
    }
   ],
   "source": [
    "df['Sectors_simp'] = df['Sector'].apply(sector_simplifier)\n",
    "df['Sectors_simp'].value_counts()"
   ]
  },
  {
   "cell_type": "code",
   "execution_count": 47,
   "metadata": {},
   "outputs": [
    {
     "data": {
      "text/html": [
       "<div>\n",
       "<style scoped>\n",
       "    .dataframe tbody tr th:only-of-type {\n",
       "        vertical-align: middle;\n",
       "    }\n",
       "\n",
       "    .dataframe tbody tr th {\n",
       "        vertical-align: top;\n",
       "    }\n",
       "\n",
       "    .dataframe thead th {\n",
       "        text-align: right;\n",
       "    }\n",
       "</style>\n",
       "<table border=\"1\" class=\"dataframe\">\n",
       "  <thead>\n",
       "    <tr style=\"text-align: right;\">\n",
       "      <th></th>\n",
       "      <th>Title</th>\n",
       "      <th>Location</th>\n",
       "      <th>Company</th>\n",
       "      <th>Rating</th>\n",
       "      <th>Ownership</th>\n",
       "      <th>Industry</th>\n",
       "      <th>Sector</th>\n",
       "      <th>Salary</th>\n",
       "      <th>Description</th>\n",
       "      <th>min_salary</th>\n",
       "      <th>...</th>\n",
       "      <th>Excel</th>\n",
       "      <th>Deep_learning</th>\n",
       "      <th>Macine_learning</th>\n",
       "      <th>Bachelors</th>\n",
       "      <th>Masters</th>\n",
       "      <th>Job_type</th>\n",
       "      <th>Job_simp</th>\n",
       "      <th>Seniority_simp</th>\n",
       "      <th>Industry_simp</th>\n",
       "      <th>Sectors_simp</th>\n",
       "    </tr>\n",
       "  </thead>\n",
       "  <tbody>\n",
       "    <tr>\n",
       "      <th>0</th>\n",
       "      <td>Data Scientist 1</td>\n",
       "      <td>Bangalore</td>\n",
       "      <td>PayPal</td>\n",
       "      <td>4.1</td>\n",
       "      <td>Company - Public</td>\n",
       "      <td>Internet</td>\n",
       "      <td>Information Technology</td>\n",
       "      <td>₹250K - ₹683K (Glassdoor Est.)</td>\n",
       "      <td>Who we are: Fueled by a fundamental belief tha...</td>\n",
       "      <td>250</td>\n",
       "      <td>...</td>\n",
       "      <td>1</td>\n",
       "      <td>1</td>\n",
       "      <td>1</td>\n",
       "      <td>1</td>\n",
       "      <td>1</td>\n",
       "      <td>Other</td>\n",
       "      <td>Data Scientist</td>\n",
       "      <td>Other</td>\n",
       "      <td>Internet</td>\n",
       "      <td>Information Technology</td>\n",
       "    </tr>\n",
       "    <tr>\n",
       "      <th>1</th>\n",
       "      <td>Data Scientist</td>\n",
       "      <td>Gurgaon</td>\n",
       "      <td>Builder.ai - What would you Build?</td>\n",
       "      <td>3.7</td>\n",
       "      <td>Company - Private</td>\n",
       "      <td>Enterprise Software &amp; Network Solutions</td>\n",
       "      <td>Information Technology</td>\n",
       "      <td>₹527K - ₹798K (Glassdoor Est.)</td>\n",
       "      <td>About us\\n\\nInnovation is fuelled by the power...</td>\n",
       "      <td>527</td>\n",
       "      <td>...</td>\n",
       "      <td>0</td>\n",
       "      <td>1</td>\n",
       "      <td>1</td>\n",
       "      <td>0</td>\n",
       "      <td>1</td>\n",
       "      <td>Other</td>\n",
       "      <td>Data Scientist</td>\n",
       "      <td>Other</td>\n",
       "      <td>Software</td>\n",
       "      <td>Information Technology</td>\n",
       "    </tr>\n",
       "    <tr>\n",
       "      <th>2</th>\n",
       "      <td>Machine Learning Engineer - Java/Scala/Spark (...</td>\n",
       "      <td>Bangalore</td>\n",
       "      <td>Oracle</td>\n",
       "      <td>3.8</td>\n",
       "      <td>Company - Public</td>\n",
       "      <td>Enterprise Software &amp; Network Solutions</td>\n",
       "      <td>Information Technology</td>\n",
       "      <td>₹402K - ₹831K (Glassdoor Est.)</td>\n",
       "      <td>Oracle Cloud Infrastructure (OCI) is a strateg...</td>\n",
       "      <td>402</td>\n",
       "      <td>...</td>\n",
       "      <td>1</td>\n",
       "      <td>1</td>\n",
       "      <td>1</td>\n",
       "      <td>0</td>\n",
       "      <td>1</td>\n",
       "      <td>Internship</td>\n",
       "      <td>Machine Learing</td>\n",
       "      <td>Other</td>\n",
       "      <td>Software</td>\n",
       "      <td>Information Technology</td>\n",
       "    </tr>\n",
       "    <tr>\n",
       "      <th>3</th>\n",
       "      <td>Data Scientist</td>\n",
       "      <td>Bangalore</td>\n",
       "      <td>Nutanix</td>\n",
       "      <td>3.9</td>\n",
       "      <td>Company - Public</td>\n",
       "      <td>Enterprise Software &amp; Network Solutions</td>\n",
       "      <td>Information Technology</td>\n",
       "      <td>₹457K - ₹899K (Glassdoor Est.)</td>\n",
       "      <td>We are looking for a Data Scientist who will s...</td>\n",
       "      <td>457</td>\n",
       "      <td>...</td>\n",
       "      <td>1</td>\n",
       "      <td>0</td>\n",
       "      <td>1</td>\n",
       "      <td>0</td>\n",
       "      <td>1</td>\n",
       "      <td>Other</td>\n",
       "      <td>Data Scientist</td>\n",
       "      <td>Other</td>\n",
       "      <td>Software</td>\n",
       "      <td>Information Technology</td>\n",
       "    </tr>\n",
       "    <tr>\n",
       "      <th>4</th>\n",
       "      <td>Data Scientist</td>\n",
       "      <td>Chennai</td>\n",
       "      <td>Paypal</td>\n",
       "      <td>4.1</td>\n",
       "      <td>Company - Public</td>\n",
       "      <td>Internet</td>\n",
       "      <td>Information Technology</td>\n",
       "      <td>₹540K - ₹724K (Glassdoor Est.)</td>\n",
       "      <td>At PayPal, were literally reinventing how the ...</td>\n",
       "      <td>540</td>\n",
       "      <td>...</td>\n",
       "      <td>0</td>\n",
       "      <td>1</td>\n",
       "      <td>1</td>\n",
       "      <td>0</td>\n",
       "      <td>1</td>\n",
       "      <td>Other</td>\n",
       "      <td>Data Scientist</td>\n",
       "      <td>Other</td>\n",
       "      <td>Internet</td>\n",
       "      <td>Information Technology</td>\n",
       "    </tr>\n",
       "  </tbody>\n",
       "</table>\n",
       "<p>5 rows × 25 columns</p>\n",
       "</div>"
      ],
      "text/plain": [
       "                                               Title   Location  \\\n",
       "0                                   Data Scientist 1  Bangalore   \n",
       "1                                     Data Scientist    Gurgaon   \n",
       "2  Machine Learning Engineer - Java/Scala/Spark (...  Bangalore   \n",
       "3                                     Data Scientist  Bangalore   \n",
       "4                                     Data Scientist    Chennai   \n",
       "\n",
       "                              Company Rating          Ownership  \\\n",
       "0                              PayPal    4.1   Company - Public   \n",
       "1  Builder.ai - What would you Build?    3.7  Company - Private   \n",
       "2                              Oracle    3.8   Company - Public   \n",
       "3                             Nutanix    3.9   Company - Public   \n",
       "4                              Paypal    4.1   Company - Public   \n",
       "\n",
       "                                  Industry                  Sector  \\\n",
       "0                                 Internet  Information Technology   \n",
       "1  Enterprise Software & Network Solutions  Information Technology   \n",
       "2  Enterprise Software & Network Solutions  Information Technology   \n",
       "3  Enterprise Software & Network Solutions  Information Technology   \n",
       "4                                 Internet  Information Technology   \n",
       "\n",
       "                           Salary  \\\n",
       "0  ₹250K - ₹683K (Glassdoor Est.)   \n",
       "1  ₹527K - ₹798K (Glassdoor Est.)   \n",
       "2  ₹402K - ₹831K (Glassdoor Est.)   \n",
       "3  ₹457K - ₹899K (Glassdoor Est.)   \n",
       "4  ₹540K - ₹724K (Glassdoor Est.)   \n",
       "\n",
       "                                         Description  min_salary  ...  Excel  \\\n",
       "0  Who we are: Fueled by a fundamental belief tha...         250  ...      1   \n",
       "1  About us\\n\\nInnovation is fuelled by the power...         527  ...      0   \n",
       "2  Oracle Cloud Infrastructure (OCI) is a strateg...         402  ...      1   \n",
       "3  We are looking for a Data Scientist who will s...         457  ...      1   \n",
       "4  At PayPal, were literally reinventing how the ...         540  ...      0   \n",
       "\n",
       "   Deep_learning Macine_learning  Bachelors  Masters    Job_type  \\\n",
       "0              1               1          1        1       Other   \n",
       "1              1               1          0        1       Other   \n",
       "2              1               1          0        1  Internship   \n",
       "3              0               1          0        1       Other   \n",
       "4              1               1          0        1       Other   \n",
       "\n",
       "          Job_simp  Seniority_simp  Industry_simp            Sectors_simp  \n",
       "0   Data Scientist           Other       Internet  Information Technology  \n",
       "1   Data Scientist           Other       Software  Information Technology  \n",
       "2  Machine Learing           Other       Software  Information Technology  \n",
       "3   Data Scientist           Other       Software  Information Technology  \n",
       "4   Data Scientist           Other       Internet  Information Technology  \n",
       "\n",
       "[5 rows x 25 columns]"
      ]
     },
     "execution_count": 47,
     "metadata": {},
     "output_type": "execute_result"
    }
   ],
   "source": [
    "df.head()"
   ]
  },
  {
   "cell_type": "markdown",
   "metadata": {},
   "source": [
    "## Replacing None Value"
   ]
  },
  {
   "cell_type": "code",
   "execution_count": 48,
   "metadata": {},
   "outputs": [],
   "source": [
    "# Replacing None to NaN using numpy\n",
    "df.replace('None',np.NaN , inplace=True )"
   ]
  },
  {
   "cell_type": "code",
   "execution_count": 49,
   "metadata": {},
   "outputs": [
    {
     "data": {
      "text/plain": [
       "Title                  0\n",
       "Location               0\n",
       "Company                0\n",
       "Rating                95\n",
       "Ownership             71\n",
       "Industry             187\n",
       "Sector               188\n",
       "Salary                 0\n",
       "Description          168\n",
       "min_salary             0\n",
       "max_salary             0\n",
       "avg_salary             0\n",
       "Type_of_ownership      0\n",
       "Python                 0\n",
       "Aws                    0\n",
       "Excel                  0\n",
       "Deep_learning          0\n",
       "Macine_learning        0\n",
       "Bachelors              0\n",
       "Masters                0\n",
       "Job_type               0\n",
       "Job_simp               0\n",
       "Seniority_simp         0\n",
       "Industry_simp          0\n",
       "Sectors_simp           0\n",
       "dtype: int64"
      ]
     },
     "execution_count": 49,
     "metadata": {},
     "output_type": "execute_result"
    }
   ],
   "source": [
    "# Sum of all NaN values.\n",
    "df.isnull().sum()"
   ]
  },
  {
   "cell_type": "markdown",
   "metadata": {},
   "source": [
    "## Filling Nan values of Rating with ffill method (takes last valid observation forward to next valid)"
   ]
  },
  {
   "cell_type": "code",
   "execution_count": 50,
   "metadata": {},
   "outputs": [],
   "source": [
    "\n",
    "df['Rating'].fillna( method ='ffill', inplace = True) \n",
    "\n",
    "df['Rating'] = df['Rating'].apply(pd.to_numeric) "
   ]
  },
  {
   "cell_type": "code",
   "execution_count": 51,
   "metadata": {},
   "outputs": [
    {
     "data": {
      "image/png": "[encoded data removed]",
      "text/plain": [
       "<Figure size 1080x576 with 2 Axes>"
      ]
     },
     "metadata": {},
     "output_type": "display_data"
    }
   ],
   "source": [
    "# Plotting the heatmap of all remaining NaN values\n",
    "plt.figure(figsize=(15,8))\n",
    "sns.heatmap(df.isnull())\n",
    "plt.show()"
   ]
  },
  {
   "cell_type": "code",
   "execution_count": 53,
   "metadata": {},
   "outputs": [],
   "source": [
    "df.to_csv (r'Enter your entire file path where you want to save the file\\Data_pre_processing.csv', index = False, header=True)"
   ]
  },
  {
   "cell_type": "code",
   "execution_count": null,
   "metadata": {},
   "outputs": [],
   "source": []
  }
 ],
 "metadata": {
  "kernelspec": {
   "display_name": "Python 3",
   "language": "python",
   "name": "python3"
  },
  "language_info": {
   "codemirror_mode": {
    "name": "ipython",
    "version": 3
   },
   "file_extension": ".py",
   "mimetype": "text/x-python",
   "name": "python",
   "nbconvert_exporter": "python",
   "pygments_lexer": "ipython3",
   "version": "3.8.8"
  }
 },
 "nbformat": 4,
 "nbformat_minor": 4
}
